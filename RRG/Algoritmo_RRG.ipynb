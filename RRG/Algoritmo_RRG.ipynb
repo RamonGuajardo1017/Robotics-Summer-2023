{
  "nbformat": 4,
  "nbformat_minor": 0,
  "metadata": {
    "colab": {
      "provenance": []
    },
    "kernelspec": {
      "name": "python3",
      "display_name": "Python 3"
    },
    "language_info": {
      "name": "python"
    }
  },
  "cells": [
    {
      "cell_type": "markdown",
      "source": [
        "# Proyecto de Robótica - Verano 2023\n",
        "\n",
        "\n",
        "*   Miguel Ángel Paz\n",
        "*   Luis Ramón Guajardo\n",
        "*   Jafet Castañeda\n",
        "*   Andrés Suro\n",
        "\n"
      ],
      "metadata": {
        "id": "VHuktnBK4VgX"
      }
    },
    {
      "cell_type": "markdown",
      "source": [
        "# Generación del Laberinto"
      ],
      "metadata": {
        "id": "jUuQqxvj4qWh"
      }
    },
    {
      "cell_type": "code",
      "source": [
        "import matplotlib.pyplot as plt\n",
        "from matplotlib.patches import Rectangle\n",
        "from matplotlib.patches import Circle\n",
        "import numpy as np"
      ],
      "metadata": {
        "id": "0kwKEm4y9_zc"
      },
      "execution_count": null,
      "outputs": []
    },
    {
      "cell_type": "markdown",
      "source": [
        "# Definimos el laberinto"
      ],
      "metadata": {
        "id": "uT2DT0oMjIIL"
      }
    },
    {
      "cell_type": "code",
      "source": [
        "class Obstacle:\n",
        "  pos = ''\n",
        "  width = ''\n",
        "  height = ''\n",
        "\n",
        "  def __init__(self, p, w, h):\n",
        "    self.pos = p\n",
        "    self.width = w\n",
        "    self.height = h\n"
      ],
      "metadata": {
        "id": "E3Usw7_EAYr3"
      },
      "execution_count": null,
      "outputs": []
    },
    {
      "cell_type": "code",
      "source": [
        "obstacles = []\n",
        "wt = 0.25/2\n",
        "\n",
        "#Paredes del laberinto\n",
        "obstacles.append(Obstacle((2-wt,0), 0.25, 2 + wt))\n",
        "obstacles.append(Obstacle((2+wt, 2-wt), 2, 0.25))\n",
        "\n",
        "obstacles.append(Obstacle((0, 4-wt), 4-wt, 0.25))\n",
        "obstacles.append(Obstacle((4-wt, 4-wt), 0.25, 2 + 2*wt))\n",
        "obstacles.append(Obstacle((2-wt, 6-wt), 2, 0.25))\n",
        "\n",
        "obstacles.append(Obstacle((6-wt, 6-wt), 0.25, 2 + 2*wt))\n",
        "\n",
        "obstacles.append(Obstacle((6-wt, 2-wt), 0.25, 2 + 2*wt))\n",
        "obstacles.append(Obstacle((6+wt, 4-wt), 2-wt, 0.25))"
      ],
      "metadata": {
        "id": "q2N9gsf0Cj0J"
      },
      "execution_count": null,
      "outputs": []
    },
    {
      "cell_type": "code",
      "source": [
        "liminf_X = 0\n",
        "limsup_X = 8\n",
        "liminf_Y = 0\n",
        "limsup_Y = 8\n",
        "\n",
        "radio_robot = 0.25\n",
        "x_init = np.array([1,6])"
      ],
      "metadata": {
        "id": "xKiZ9F1DISuV"
      },
      "execution_count": null,
      "outputs": []
    },
    {
      "cell_type": "markdown",
      "source": [
        "## Creacion de puntos aleatorios"
      ],
      "metadata": {
        "id": "beryU6a4jPXq"
      }
    },
    {
      "cell_type": "code",
      "source": [
        "puntos=[[]]\n",
        "for i in range(0,16):\n",
        "  puntos.append([])\n",
        "  #print(\"x:\",i, (i%4)*2, i+1, (i%4 +1)*2)\n",
        "  #print(\"y:\",i/4, 2*int(i/4), (i+1)/4+1, 2*(int(i/4)+1))\n",
        "  #print()\n",
        "  while(len(puntos[i])!=10):\n",
        "    a=np.random.uniform(2*(i%4)+radio_robot, 2*(i%4 +1)-radio_robot)\n",
        "\n",
        "    b=np.random.uniform(2*(int(i/4)%5)+radio_robot, 2*((int(i/4)+1)%5)-radio_robot)\n",
        "    if sampleFree(a,b,radio_robot):\n",
        "      punto =  np.array([a,b])\n",
        "      puntos[i].append(punto)\n"
      ],
      "metadata": {
        "id": "_Jen7bpJRr5l"
      },
      "execution_count": null,
      "outputs": []
    },
    {
      "cell_type": "code",
      "source": [
        "print(puntos[10])\n",
        "len(puntos[10])"
      ],
      "metadata": {
        "colab": {
          "base_uri": "https://localhost:8080/"
        },
        "id": "W3yuwyIGT8cb",
        "outputId": "0dc41f32-550a-453d-fc2f-8a2b5eb31882"
      },
      "execution_count": null,
      "outputs": [
        {
          "output_type": "stream",
          "name": "stdout",
          "text": [
            "[array([5.01203756, 5.20281575]), array([4.72525323, 4.2832653 ]), array([5.39930681, 5.59339749]), array([5.19142773, 4.59529632]), array([4.96674107, 4.29935852]), array([4.98043288, 5.61722722]), array([5.00372854, 4.56825641]), array([5.68712962, 5.32257756]), array([5.16159357, 4.51257927]), array([4.70964123, 4.85641935])]\n"
          ]
        },
        {
          "output_type": "execute_result",
          "data": {
            "text/plain": [
              "10"
            ]
          },
          "metadata": {},
          "execution_count": 116
        }
      ]
    },
    {
      "cell_type": "markdown",
      "source": [
        "## Lectura de puntos aleatorios"
      ],
      "metadata": {
        "id": "Zrm4I6x4jUr4"
      }
    },
    {
      "cell_type": "code",
      "source": [
        "from google.colab import files\n",
        "uploaded = files.upload()"
      ],
      "metadata": {
        "colab": {
          "base_uri": "https://localhost:8080/",
          "height": 38
        },
        "id": "aCW1AuTakgEP",
        "outputId": "efed15ff-583d-402b-aaad-7275f25292ca"
      },
      "execution_count": null,
      "outputs": [
        {
          "output_type": "display_data",
          "data": {
            "text/plain": [
              "<IPython.core.display.HTML object>"
            ],
            "text/html": [
              "\n",
              "     <input type=\"file\" id=\"files-56fc89c4-ed22-4f56-ad32-305659148fcf\" name=\"files[]\" multiple disabled\n",
              "        style=\"border:none\" />\n",
              "     <output id=\"result-56fc89c4-ed22-4f56-ad32-305659148fcf\">\n",
              "      Upload widget is only available when the cell has been executed in the\n",
              "      current browser session. Please rerun this cell to enable.\n",
              "      </output>\n",
              "      <script>// Copyright 2017 Google LLC\n",
              "//\n",
              "// Licensed under the Apache License, Version 2.0 (the \"License\");\n",
              "// you may not use this file except in compliance with the License.\n",
              "// You may obtain a copy of the License at\n",
              "//\n",
              "//      http://www.apache.org/licenses/LICENSE-2.0\n",
              "//\n",
              "// Unless required by applicable law or agreed to in writing, software\n",
              "// distributed under the License is distributed on an \"AS IS\" BASIS,\n",
              "// WITHOUT WARRANTIES OR CONDITIONS OF ANY KIND, either express or implied.\n",
              "// See the License for the specific language governing permissions and\n",
              "// limitations under the License.\n",
              "\n",
              "/**\n",
              " * @fileoverview Helpers for google.colab Python module.\n",
              " */\n",
              "(function(scope) {\n",
              "function span(text, styleAttributes = {}) {\n",
              "  const element = document.createElement('span');\n",
              "  element.textContent = text;\n",
              "  for (const key of Object.keys(styleAttributes)) {\n",
              "    element.style[key] = styleAttributes[key];\n",
              "  }\n",
              "  return element;\n",
              "}\n",
              "\n",
              "// Max number of bytes which will be uploaded at a time.\n",
              "const MAX_PAYLOAD_SIZE = 100 * 1024;\n",
              "\n",
              "function _uploadFiles(inputId, outputId) {\n",
              "  const steps = uploadFilesStep(inputId, outputId);\n",
              "  const outputElement = document.getElementById(outputId);\n",
              "  // Cache steps on the outputElement to make it available for the next call\n",
              "  // to uploadFilesContinue from Python.\n",
              "  outputElement.steps = steps;\n",
              "\n",
              "  return _uploadFilesContinue(outputId);\n",
              "}\n",
              "\n",
              "// This is roughly an async generator (not supported in the browser yet),\n",
              "// where there are multiple asynchronous steps and the Python side is going\n",
              "// to poll for completion of each step.\n",
              "// This uses a Promise to block the python side on completion of each step,\n",
              "// then passes the result of the previous step as the input to the next step.\n",
              "function _uploadFilesContinue(outputId) {\n",
              "  const outputElement = document.getElementById(outputId);\n",
              "  const steps = outputElement.steps;\n",
              "\n",
              "  const next = steps.next(outputElement.lastPromiseValue);\n",
              "  return Promise.resolve(next.value.promise).then((value) => {\n",
              "    // Cache the last promise value to make it available to the next\n",
              "    // step of the generator.\n",
              "    outputElement.lastPromiseValue = value;\n",
              "    return next.value.response;\n",
              "  });\n",
              "}\n",
              "\n",
              "/**\n",
              " * Generator function which is called between each async step of the upload\n",
              " * process.\n",
              " * @param {string} inputId Element ID of the input file picker element.\n",
              " * @param {string} outputId Element ID of the output display.\n",
              " * @return {!Iterable<!Object>} Iterable of next steps.\n",
              " */\n",
              "function* uploadFilesStep(inputId, outputId) {\n",
              "  const inputElement = document.getElementById(inputId);\n",
              "  inputElement.disabled = false;\n",
              "\n",
              "  const outputElement = document.getElementById(outputId);\n",
              "  outputElement.innerHTML = '';\n",
              "\n",
              "  const pickedPromise = new Promise((resolve) => {\n",
              "    inputElement.addEventListener('change', (e) => {\n",
              "      resolve(e.target.files);\n",
              "    });\n",
              "  });\n",
              "\n",
              "  const cancel = document.createElement('button');\n",
              "  inputElement.parentElement.appendChild(cancel);\n",
              "  cancel.textContent = 'Cancel upload';\n",
              "  const cancelPromise = new Promise((resolve) => {\n",
              "    cancel.onclick = () => {\n",
              "      resolve(null);\n",
              "    };\n",
              "  });\n",
              "\n",
              "  // Wait for the user to pick the files.\n",
              "  const files = yield {\n",
              "    promise: Promise.race([pickedPromise, cancelPromise]),\n",
              "    response: {\n",
              "      action: 'starting',\n",
              "    }\n",
              "  };\n",
              "\n",
              "  cancel.remove();\n",
              "\n",
              "  // Disable the input element since further picks are not allowed.\n",
              "  inputElement.disabled = true;\n",
              "\n",
              "  if (!files) {\n",
              "    return {\n",
              "      response: {\n",
              "        action: 'complete',\n",
              "      }\n",
              "    };\n",
              "  }\n",
              "\n",
              "  for (const file of files) {\n",
              "    const li = document.createElement('li');\n",
              "    li.append(span(file.name, {fontWeight: 'bold'}));\n",
              "    li.append(span(\n",
              "        `(${file.type || 'n/a'}) - ${file.size} bytes, ` +\n",
              "        `last modified: ${\n",
              "            file.lastModifiedDate ? file.lastModifiedDate.toLocaleDateString() :\n",
              "                                    'n/a'} - `));\n",
              "    const percent = span('0% done');\n",
              "    li.appendChild(percent);\n",
              "\n",
              "    outputElement.appendChild(li);\n",
              "\n",
              "    const fileDataPromise = new Promise((resolve) => {\n",
              "      const reader = new FileReader();\n",
              "      reader.onload = (e) => {\n",
              "        resolve(e.target.result);\n",
              "      };\n",
              "      reader.readAsArrayBuffer(file);\n",
              "    });\n",
              "    // Wait for the data to be ready.\n",
              "    let fileData = yield {\n",
              "      promise: fileDataPromise,\n",
              "      response: {\n",
              "        action: 'continue',\n",
              "      }\n",
              "    };\n",
              "\n",
              "    // Use a chunked sending to avoid message size limits. See b/62115660.\n",
              "    let position = 0;\n",
              "    do {\n",
              "      const length = Math.min(fileData.byteLength - position, MAX_PAYLOAD_SIZE);\n",
              "      const chunk = new Uint8Array(fileData, position, length);\n",
              "      position += length;\n",
              "\n",
              "      const base64 = btoa(String.fromCharCode.apply(null, chunk));\n",
              "      yield {\n",
              "        response: {\n",
              "          action: 'append',\n",
              "          file: file.name,\n",
              "          data: base64,\n",
              "        },\n",
              "      };\n",
              "\n",
              "      let percentDone = fileData.byteLength === 0 ?\n",
              "          100 :\n",
              "          Math.round((position / fileData.byteLength) * 100);\n",
              "      percent.textContent = `${percentDone}% done`;\n",
              "\n",
              "    } while (position < fileData.byteLength);\n",
              "  }\n",
              "\n",
              "  // All done.\n",
              "  yield {\n",
              "    response: {\n",
              "      action: 'complete',\n",
              "    }\n",
              "  };\n",
              "}\n",
              "\n",
              "scope.google = scope.google || {};\n",
              "scope.google.colab = scope.google.colab || {};\n",
              "scope.google.colab._files = {\n",
              "  _uploadFiles,\n",
              "  _uploadFilesContinue,\n",
              "};\n",
              "})(self);\n",
              "</script> "
            ]
          },
          "metadata": {}
        }
      ]
    },
    {
      "cell_type": "code",
      "source": [
        "initialPoints = []\n",
        "\n",
        "with open(\"initialPoints.txt\", 'r') as file:\n",
        "    for linea in file:\n",
        "        x, y = map(float, linea.split())\n",
        "        initialPoints.append(np.array([x, y]))"
      ],
      "metadata": {
        "id": "XFeoVAHOk2_1"
      },
      "execution_count": null,
      "outputs": []
    },
    {
      "cell_type": "code",
      "source": [
        "initialPoints[0]\n",
        "len(initialPoints)"
      ],
      "metadata": {
        "colab": {
          "base_uri": "https://localhost:8080/"
        },
        "id": "7Auv0z2qqnt1",
        "outputId": "ce219e3a-192d-4ce2-a1bb-17fe2a76a684"
      },
      "execution_count": null,
      "outputs": [
        {
          "output_type": "execute_result",
          "data": {
            "text/plain": [
              "160"
            ]
          },
          "metadata": {},
          "execution_count": 10
        }
      ]
    },
    {
      "cell_type": "markdown",
      "source": [
        "## Puntos aleatorios recibidos"
      ],
      "metadata": {
        "id": "Yio1W8SwjaUV"
      }
    },
    {
      "cell_type": "code",
      "source": [
        "fig, ax = plt.subplots()\n",
        "ax.set_xlim(liminf_X, limsup_X)\n",
        "ax.set_ylim(liminf_Y, limsup_Y)\n",
        "\n",
        "for i in range(len(obstacles)):\n",
        "  ax.add_patch(Rectangle(obstacles[i].pos, obstacles[i].width, obstacles[i].height,\n",
        "             facecolor = 'red',\n",
        "             fill=True))\n",
        "\n",
        "\n",
        "#circle_patch = Circle(x_init, radio_robot, facecolor='blue')\n",
        "#ax.add_patch(circle_patch)\n",
        "\n",
        "\n",
        "for punto in initialPoints:\n",
        "  circle_patch = Circle(punto, radio_robot, facecolor='blue')\n",
        "  ax.add_patch(circle_patch)\n",
        "\n",
        "\n",
        "plt.grid()\n",
        "ax.set_aspect('equal')\n",
        "plt.tight_layout()\n",
        "\n",
        "plt.show()"
      ],
      "metadata": {
        "colab": {
          "base_uri": "https://localhost:8080/",
          "height": 487
        },
        "id": "lYqVGz4d-A6F",
        "outputId": "d3d0c8d1-db1a-48d5-c4a9-6769314f87f9"
      },
      "execution_count": null,
      "outputs": [
        {
          "output_type": "display_data",
          "data": {
            "text/plain": [
              "<Figure size 640x480 with 1 Axes>"
            ],
            "image/png": "[encoded data removed]"
          },
          "metadata": {}
        }
      ]
    },
    {
      "cell_type": "markdown",
      "source": [
        "# Primitive Functions"
      ],
      "metadata": {
        "id": "i9y1mXGJDKWI"
      }
    },
    {
      "cell_type": "markdown",
      "source": [
        "## Colisiones de puntos"
      ],
      "metadata": {
        "id": "P7R6TGZeqjgP"
      }
    },
    {
      "cell_type": "code",
      "source": [
        "# CIRCLE/RECTANGLE\n",
        "def circleRect(cx,cy,radius, rx, ry, rw, rh):\n",
        "\n",
        "  # temporary variables to set edges for testing\n",
        "  testX = cx;\n",
        "  testY = cy;\n",
        "\n",
        "  # which edge is closest?\n",
        "  if (cx < rx):\n",
        "    testX = rx      # test left edge\n",
        "  elif (cx > rx+rw):\n",
        "    testX = rx+rw   # right edge\n",
        "  if (cy < ry):\n",
        "    testY = ry      # top edge\n",
        "  elif (cy > ry+rh):\n",
        "    testY = ry+rh   # bottom edge\n",
        "\n",
        "  # get distance from closest edges\n",
        "  distX = cx-testX\n",
        "  distY = cy-testY\n",
        "  distance = np.sqrt((distX*distX) + (distY*distY))\n",
        "\n",
        "  # if the distance is less than the radius, collision!\n",
        "  if (distance <= radius):\n",
        "    return True\n",
        "\n",
        "  return False\n",
        "\n",
        "\n",
        "def sampleFree(x,y,r):\n",
        "\n",
        "  if x+r > limsup_X or x-r < liminf_X:\n",
        "    return False\n",
        "\n",
        "  if y+r > limsup_Y or y-r < liminf_Y:\n",
        "    return False\n",
        "\n",
        "  for rec in obstacles:\n",
        "    rx = rec.pos[0]\n",
        "    ry = rec.pos[1]\n",
        "    rw = rec.width\n",
        "    rh = rec.height\n",
        "\n",
        "    if circleRect(x,y,r, rx, ry, rw, rh) == True:\n",
        "      return False\n",
        "\n",
        "  return True"
      ],
      "metadata": {
        "id": "NcXg5BPsJMTv"
      },
      "execution_count": null,
      "outputs": []
    },
    {
      "cell_type": "code",
      "source": [
        "sampleFree(0.3, 0.3, 1)"
      ],
      "metadata": {
        "colab": {
          "base_uri": "https://localhost:8080/"
        },
        "id": "zKQyUEXtLg8q",
        "outputId": "81a6a61d-dbc6-4120-dd3b-7fb13aa3c932"
      },
      "execution_count": null,
      "outputs": [
        {
          "output_type": "execute_result",
          "data": {
            "text/plain": [
              "False"
            ]
          },
          "metadata": {},
          "execution_count": 12
        }
      ]
    },
    {
      "cell_type": "markdown",
      "source": [
        "## Colisiones de Objetos"
      ],
      "metadata": {
        "id": "onSQaL6nqned"
      }
    },
    {
      "cell_type": "code",
      "source": [
        "def collisionFree(x1, y1, x2, y2, r):\n",
        "  for rec in obstacles:\n",
        "    #Parametros del obstaculo (rectangulo)\n",
        "    rx = rec.pos[0]\n",
        "    ry = rec.pos[1]\n",
        "    rw = rec.width\n",
        "    rh = rec.height\n",
        "\n",
        "    numSamples = 10\n",
        "\n",
        "    for i in range(numSamples+1):\n",
        "      xm = (x2-x1)*(i/numSamples)+x1\n",
        "      ym = (y2-y1)*(i/numSamples)+y1\n",
        "      #Si un circulo de la muestra no es libre de colision,\n",
        "      #regresamos que la trayectoria no es posible\n",
        "      if sampleFree(xm,ym,r) == False:\n",
        "        return False\n",
        "\n",
        "\n",
        "  return True"
      ],
      "metadata": {
        "id": "350QkgeIqqoA"
      },
      "execution_count": null,
      "outputs": []
    },
    {
      "cell_type": "code",
      "source": [
        "collisionFree(3.1,5,5,5, 0.25)"
      ],
      "metadata": {
        "colab": {
          "base_uri": "https://localhost:8080/"
        },
        "id": "CEuwHuWPu4R6",
        "outputId": "325458ee-766a-4534-8e60-f0975f68602c"
      },
      "execution_count": null,
      "outputs": [
        {
          "output_type": "execute_result",
          "data": {
            "text/plain": [
              "False"
            ]
          },
          "metadata": {},
          "execution_count": 9
        }
      ]
    },
    {
      "cell_type": "markdown",
      "source": [
        "## Near Function"
      ],
      "metadata": {
        "id": "Whqbsuvnwpdz"
      }
    },
    {
      "cell_type": "code",
      "source": [
        "def Near(V, x, y, r):\n",
        "  B = []\n",
        "\n",
        "  for v in V:\n",
        "    v = np.array(v)\n",
        "    u = np.array([x, y])\n",
        "    if np.linalg.norm(u - v) < r:\n",
        "      #print(np.linalg.norm(u - v))\n",
        "      B.append(v)\n",
        "  return B"
      ],
      "metadata": {
        "id": "kgIJrV4Cwvul"
      },
      "execution_count": null,
      "outputs": []
    },
    {
      "cell_type": "markdown",
      "source": [
        "## Nearest Function"
      ],
      "metadata": {
        "id": "JmIuVZwcyE1q"
      }
    },
    {
      "cell_type": "code",
      "source": [
        "def Nearest(V,x,y):\n",
        "  vmin=np.array([np.inf,np.inf])\n",
        "  for v in V:\n",
        "    v = np.array(v)\n",
        "    u = np.array([x, y])\n",
        "    if np.linalg.norm(u - v)< np.linalg.norm(vmin- u):\n",
        "      vmin=v\n",
        "\n",
        "  return vmin"
      ],
      "metadata": {
        "id": "8hmI5nvbyItp"
      },
      "execution_count": null,
      "outputs": []
    },
    {
      "cell_type": "markdown",
      "source": [
        "## Steer Function"
      ],
      "metadata": {
        "id": "aZuELV-b2FAi"
      }
    },
    {
      "cell_type": "code",
      "source": [
        "def Steer(x1,y1,x2,y2,eta):\n",
        "  u = np.array([x1,y1])\n",
        "  v = np.array([x2,y2])\n",
        "\n",
        "  p = (v-u)/np.linalg.norm(u-v)\n",
        "  return u + eta*p"
      ],
      "metadata": {
        "id": "hGBC-HdwyESt"
      },
      "execution_count": null,
      "outputs": []
    },
    {
      "cell_type": "markdown",
      "source": [
        "# Algoritmo"
      ],
      "metadata": {
        "id": "jkY6TXXYllOE"
      }
    },
    {
      "cell_type": "code",
      "source": [
        "def SamplePoint():\n",
        "  while(1):\n",
        "    a=np.random.uniform(liminf_X+radio_robot, limsup_X-radio_robot)\n",
        "    b=np.random.uniform(liminf_Y+radio_robot, limsup_Y-radio_robot)\n",
        "    if sampleFree(a,b,radio_robot):\n",
        "      return np.array([a,b])\n"
      ],
      "metadata": {
        "id": "oG5eUtET_v00"
      },
      "execution_count": null,
      "outputs": []
    },
    {
      "cell_type": "code",
      "source": [
        "def Regionmeta(x,i):\n",
        "\n",
        "  if(2*(i%4)+radio_robot<=x[0] and x[0]<= 2*(i%4 +1)-radio_robot):\n",
        "    if (2*(int(i/4)%5)+radio_robot<=x[1] and x[1]<=2*((int(i/4)+1)%5)-radio_robot):\n",
        "      return True\n",
        "\n",
        "  return False"
      ],
      "metadata": {
        "id": "yYScHq1n3UZC"
      },
      "execution_count": null,
      "outputs": []
    },
    {
      "cell_type": "code",
      "source": [
        "#Regresa al area de X_free\n",
        "def mu():\n",
        "  X = limsup_X * limsup_Y\n",
        "\n",
        "  for rec in obstacles:\n",
        "    X -= rec.width * rec.height\n",
        "\n",
        "  #print(X)\n",
        "  return X"
      ],
      "metadata": {
        "id": "56GEunsVb6Rr"
      },
      "execution_count": null,
      "outputs": []
    },
    {
      "cell_type": "code",
      "source": [
        "def RRG_algorithm(x_init, samples, radio_robot, eta):\n",
        "  V=[]\n",
        "  V.append(x_init)\n",
        "  E=[]\n",
        "  Vecinos= [[]]\n",
        "\n",
        "  n=samples\n",
        "  while(len(V)<samples):\n",
        "    x_rand = SamplePoint()\n",
        "    x_nearest = Nearest(V,x_rand[0],x_rand[1])\n",
        "    #print(\"xrand:\",x_rand)\n",
        "    #print(\"xnear:\",x_nearest)\n",
        "    x_new = Steer(x_nearest[0],x_nearest[1],x_rand[0],x_rand[1],eta)\n",
        "    #print(\"xnew:\",x_new)\n",
        "\n",
        "    if collisionFree(x_nearest[0],x_nearest[1], x_new[0], x_new[1], radio_robot) and sampleFree(x_new[0],x_new[1],radio_robot):\n",
        "\n",
        "      gamma_RRG = 2*(1+1/2)**(1/2)*(mu()/np.pi)**(1/2)\n",
        "      sampleradio = min( gamma_RRG*(np.log(len(V))/len(V))**(1/2) ,eta)\n",
        "      #sampleradio = gamma_RRG *(np.log(len(V))/len(V))**(1/2)\n",
        "      #print(\"sratio:\",sampleradio)\n",
        "      X_near = Near(V,x_new[0],x_new[1], sampleradio)\n",
        "      V.append(x_new)\n",
        "      E.append([x_nearest,x_new])\n",
        "      Vecinos.append([])\n",
        "      xnew_id = np.where((V == x_new).all(axis=1))[0][0]\n",
        "      xnearest_id = np.where((V == x_nearest).all(axis=1))[0][0]\n",
        "      Vecinos[xnew_id].append(xnearest_id)\n",
        "      Vecinos[xnearest_id].append(xnew_id)\n",
        "\n",
        "      #E.append([x_new,x_nearest])\n",
        "      #u,v=E[-1]\n",
        "      #print(\"dist:\",np.sqrt((u[0]-v[0])**2+(u[1]-v[1])**2))\n",
        "\n",
        "      for x_near in X_near:\n",
        "        if collisionFree(x_near[0],x_near[1], x_new[0],x_new[1], radio_robot):\n",
        "          E.append([x_near,x_new])\n",
        "          xnear_id = np.where((V == x_near).all(axis=1))[0][0]\n",
        "          Vecinos[xnew_id].append(xnear_id)\n",
        "          Vecinos[xnear_id].append(xnew_id)\n",
        "          #u,v=E[-1]\n",
        "          #print(\"distX:\",np.sqrt((u[0]-v[0])**2+(u[1]-v[1])**2))\n",
        "          #E.append([x_new, x_near])\n",
        "\n",
        "  return V,E, Vecinos"
      ],
      "metadata": {
        "id": "67UrlpL6loPR"
      },
      "execution_count": null,
      "outputs": []
    },
    {
      "cell_type": "code",
      "source": [
        "import numpy as np\n",
        "import math\n",
        "import random\n",
        "\n",
        "def distancia_euclidiana(punto1, punto2):\n",
        "    return np.linalg.norm(punto2 - punto1)\n",
        "\n",
        "def dijkstra(V, E, Vecinos, inicio, regionmeta):\n",
        "    V=np.array(V)\n",
        "    #Distancias\n",
        "    distancias = []\n",
        "    for v in V:\n",
        "      distancias.append(np.inf)\n",
        "    #print(\"D:\",distancias)\n",
        "    id = np.where((V == inicio).all(axis=1))[0][0]\n",
        "    #print(\"id:\",id)\n",
        "    distancias[id] = 0\n",
        "\n",
        "    #Visitados\n",
        "    visitados = []\n",
        "    for v in V:\n",
        "      visitados.append(False)\n",
        "\n",
        "    #Padres\n",
        "    padres = {tuple(punto): None for punto in V}\n",
        "\n",
        "\n",
        "    Q = set()\n",
        "    i=0\n",
        "    for v in V:\n",
        "      Q.add(i)\n",
        "      i+=1\n",
        "\n",
        "\n",
        "    #while any(not visitado for visitado in visitados.values()):\n",
        "    while( len(Q)) :\n",
        "        #print(\"Q:\",len(Q))\n",
        "        #Minima distancia en Q\n",
        "        actual_id= random.choice(tuple(Q))\n",
        "        for q in Q:\n",
        "            if distancias[q]<distancias[actual_id] :\n",
        "              actual_id = q\n",
        "        visitados[actual_id] = True\n",
        "\n",
        "        if distancias[actual_id] == np.infty:\n",
        "          break\n",
        "\n",
        "        #if actual_id == np.where((V == fin).all(axis=1))[0][0]:\n",
        "        #    break\n",
        "        if Regionmeta(V[actual_id], regionmeta):\n",
        "          break\n",
        "\n",
        "        Q.remove(actual_id)\n",
        "\n",
        "        for v in Vecinos[actual_id]:\n",
        "            distancia = distancias[actual_id] + distancia_euclidiana(V[actual_id], V[v])\n",
        "            #print(\"dist:\",distancia, \"dists:\",distancias[v], \"v:\",v)\n",
        "            if distancia < distancias[v]:\n",
        "              distancias[v] = distancia\n",
        "              padres[tuple(V[v])] = tuple(V[actual_id])\n",
        "\n",
        "    fin= V[actual_id]\n",
        "    if padres[tuple(fin)] is None:\n",
        "        return None, np.inf  # No hay camino hasta el punto final\n",
        "\n",
        "    # Construir el camino óptimo\n",
        "    camino = [fin]\n",
        "    actual = tuple(fin)\n",
        "    while actual != tuple(inicio):\n",
        "        actual = padres[actual]\n",
        "        camino.append(actual)\n",
        "    camino.reverse()\n",
        "\n",
        "    return camino, distancias[np.where((V == fin).all(axis=1))[0][0]]\n"
      ],
      "metadata": {
        "id": "9KrLLZQ2NEZZ"
      },
      "execution_count": null,
      "outputs": []
    },
    {
      "cell_type": "code",
      "source": [
        "def optimalPath(V,E, Vecinos, inicio, regionmeta):\n",
        "  #print(inicio, fin)\n",
        "  inicio=Nearest(V,inicio[0],inicio[1])\n",
        "  #fin=Nearest(V,fin[0],fin[1])\n",
        "  camino_optimo, distancia_recorrida = dijkstra(V, E, Vecinos, inicio, regionmeta)\n",
        "  if camino_optimo is None:\n",
        "    pass\n",
        "    #print(\"No hay camino desde el punto de inicio al punto final.\")\n",
        "  else:\n",
        "    pass\n",
        "    #print(\"Camino óptimo:\", camino_optimo)\n",
        "    #print(\"Distancia recorrida:\", distancia_recorrida)\n",
        "\n",
        "  return camino_optimo, distancia_recorrida"
      ],
      "metadata": {
        "id": "C-9FJWeDNL0X"
      },
      "execution_count": null,
      "outputs": []
    },
    {
      "cell_type": "markdown",
      "source": [
        "Creacion de 100 puntos aleatorios nuevos"
      ],
      "metadata": {
        "id": "eL3AyL94gAvp"
      }
    },
    {
      "cell_type": "code",
      "source": [
        "Puntos_al=[]\n",
        "for i in range(100):\n",
        "  punto1=SamplePoint()\n",
        "  punto2=SamplePoint()\n",
        "  Puntos_al.append([punto1[0],punto1[1], punto2[0], punto2[1]])\n",
        "\n",
        "# Guardar los datos en un archivo de texto\n",
        "np.savetxt('Puntos_aleatorios_Neurona.txt', Puntos_al)\n",
        "\n",
        "print(\"Datos guardados en el archivo 'Puntos_aleatorios_Neurona.txt'\")\n"
      ],
      "metadata": {
        "colab": {
          "base_uri": "https://localhost:8080/"
        },
        "id": "-0O8vSO7HokL",
        "outputId": "a8adfaff-ef26-4dc6-898d-ab06a362b8df"
      },
      "execution_count": null,
      "outputs": [
        {
          "output_type": "stream",
          "name": "stdout",
          "text": [
            "Datos guardados en el archivo 'Puntos_aleatorios_Neurona.txt'\n"
          ]
        }
      ]
    },
    {
      "cell_type": "code",
      "source": [
        "# Leer los datos del archivo de texto\n",
        "arreglos_leidos = np.loadtxt('Puntos_aleatorios_Neurona.txt')\n",
        "\n",
        "Puntos_Prueba=[]\n",
        "\n",
        "# Imprimir los arreglos leídos\n",
        "print(\"Arreglos leídos del archivo:\")\n",
        "for arreglo in arreglos_leidos:\n",
        "    Puntos_Prueba.append(arreglo)\n",
        "    print(arreglo)\n",
        "\n"
      ],
      "metadata": {
        "colab": {
          "base_uri": "https://localhost:8080/"
        },
        "id": "oPrk69IfJK9y",
        "outputId": "12809a8b-47d5-4487-af6a-211c35f929a5"
      },
      "execution_count": null,
      "outputs": [
        {
          "output_type": "stream",
          "name": "stdout",
          "text": [
            "Arreglos leídos del archivo:\n",
            "[0.52487734 0.74404224 5.80209241 4.4399534 ]\n",
            "[7.07208366 1.42891251 0.67212556 0.59518626]\n",
            "[5.86988382 4.58690591 4.33915045 7.12155994]\n",
            "[1.11308728 0.82414198 3.356034   2.62791461]\n",
            "[0.89811852 2.82971072 3.22546021 1.44259316]\n",
            "[0.41975564 3.09936053 6.56694507 1.993346  ]\n",
            "[0.41480476 7.31585381 2.54109136 4.40642506]\n",
            "[5.41210812 5.10176324 4.37874955 4.59320382]\n",
            "[0.41937678 2.63836201 2.72223078 4.93395264]\n",
            "[0.77897214 0.83696132 4.2982497  6.81464969]\n",
            "[6.30807009 4.71106308 4.25711603 0.76985741]\n",
            "[6.78477974 1.74544338 2.2065893  6.9043654 ]\n",
            "[0.40625173 2.2292443  7.09718204 5.20276405]\n",
            "[4.85527483 3.83081403 0.57710047 0.48539144]\n",
            "[5.04402371 1.20168348 6.76556132 7.58802184]\n",
            "[7.23520134 5.75913352 6.94181338 6.39018322]\n",
            "[4.41971426 7.25411222 6.66349378 4.85951616]\n",
            "[1.75621813 4.89082966 0.549699   6.56199793]\n",
            "[0.40770758 7.68203098 7.57224701 7.14575921]\n",
            "[2.96974334 7.5866397  2.62048311 0.78488347]\n",
            "[2.5243499  7.47075618 6.88347515 5.07880398]\n",
            "[2.65038232 5.26499915 2.45008392 0.61328989]\n",
            "[4.38545802 0.28778171 2.41382893 3.04103092]\n",
            "[1.03157153 6.61827318 6.79866687 1.98159011]\n",
            "[7.52808328 4.87170093 1.5049069  6.73935089]\n",
            "[3.1144264  0.51820479 6.33199408 5.23777425]\n",
            "[5.29468251 4.21311687 5.71803425 0.92070218]\n",
            "[3.4201078  2.49431453 3.02681046 2.99770179]\n",
            "[1.31966377 5.9418298  6.04346983 0.43351312]\n",
            "[7.63385431 2.93272607 7.44902931 7.44369367]\n",
            "[0.67746956 4.59958968 7.53100886 3.36694915]\n",
            "[1.41103101 1.44029205 4.0289713  2.72261151]\n",
            "[7.09876256 0.53079248 6.86771112 6.95697228]\n",
            "[1.58539377 2.18021889 5.44739373 6.51946894]\n",
            "[5.14917343 0.45869049 0.96631632 6.48067388]\n",
            "[3.08857328 4.91869074 6.73290383 1.82595391]\n",
            "[5.60535584 3.1008308  5.303783   7.19478462]\n",
            "[3.6861412  7.20076942 7.57239405 7.359551  ]\n",
            "[3.41912902 1.38637808 7.44166722 2.46985097]\n",
            "[1.55328572 2.19177123 5.78197905 1.50446924]\n",
            "[1.58527819 2.80578054 2.67955829 1.39970479]\n",
            "[5.51258077 6.48382194 0.59700151 2.35970989]\n",
            "[1.39532143 4.40519293 5.36839721 5.52451589]\n",
            "[1.14057137 7.32125696 7.08471058 3.00230292]\n",
            "[1.51048149 3.46953269 3.14270809 7.47842686]\n",
            "[5.12870158 1.21098545 5.23211749 1.68337591]\n",
            "[4.37052004 7.09367614 2.96598476 6.58998212]\n",
            "[6.03066834 0.46979811 7.26217262 3.22009307]\n",
            "[1.15076866 0.54365631 2.39080763 5.45613932]\n",
            "[5.12542335 2.88281053 7.39079592 7.16393527]\n",
            "[7.49127782 2.82399495 4.67611776 4.89181996]\n",
            "[1.86085186 6.66081383 3.50340036 3.52833908]\n",
            "[1.96940958 4.88282136 4.05312482 1.3275483 ]\n",
            "[1.75393934 2.76498206 6.63515789 3.4123834 ]\n",
            "[4.58136637 5.63272375 6.19794235 1.4632799 ]\n",
            "[7.13665008 5.38470507 7.03962804 6.66924895]\n",
            "[1.70135514 5.17974041 5.66258573 0.4155563 ]\n",
            "[4.36399361 7.21467543 4.67435222 1.54412015]\n",
            "[4.9675715  0.87566575 5.10311284 7.26794302]\n",
            "[4.10978389 1.59085089 2.60217475 7.33922683]\n",
            "[4.47038293 4.19080572 0.51984986 6.34633232]\n",
            "[1.18244262 7.2262133  5.39924723 3.24502376]\n",
            "[4.74222968 1.92711971 6.77650004 3.25782537]\n",
            "[1.9936136  4.75168524 5.6035387  5.65711014]\n",
            "[7.28555679 7.16887658 7.10940919 6.33064641]\n",
            "[1.52117421 4.51187139 6.59029552 0.98842219]\n",
            "[4.27672004 3.08106773 6.50591196 2.98947696]\n",
            "[1.52176268 7.27741351 0.52800992 1.70814686]\n",
            "[6.03886446 4.70324314 0.87961973 6.96441162]\n",
            "[3.60800833 4.56319694 3.97485891 0.92045191]\n",
            "[6.70105389 6.33275202 0.76278441 1.44539491]\n",
            "[3.1507431  3.16330201 4.61342756 5.49621008]\n",
            "[4.89926209 3.4014659  0.42728887 2.35317405]\n",
            "[7.48643582 2.63717925 5.86939093 5.4998373 ]\n",
            "[1.88584834 3.24335076 1.8169338  4.74599265]\n",
            "[4.10001446 2.66442367 7.72847234 3.17661855]\n",
            "[2.30240116 2.661553   4.79090959 6.5086658 ]\n",
            "[5.60545955 3.32068807 1.1525692  4.72356322]\n",
            "[4.68194531 1.82097598 3.56828499 6.63348005]\n",
            "[5.30353277 6.32524113 5.06720324 6.28088301]\n",
            "[1.08846113 7.0129661  1.35509026 2.30077118]\n",
            "[6.57199613 6.51156555 7.55718163 3.10721423]\n",
            "[5.04576526 4.7036627  1.13160284 6.91899832]\n",
            "[4.41366261 5.81890994 1.02055822 2.82935567]\n",
            "[0.6463922  6.37177204 1.63334349 5.59984601]\n",
            "[5.57951127 0.70699161 7.33378976 6.46657643]\n",
            "[4.48428226 1.02950272 7.07842248 4.59265732]\n",
            "[2.33917397 3.18385924 0.67036391 7.62670511]\n",
            "[1.40970039 6.09540536 6.84805785 3.13288515]\n",
            "[5.1699352  0.72404175 1.0065871  4.74637376]\n",
            "[2.33336441 6.61000748 2.63671773 1.55732081]\n",
            "[7.11466018 6.60780454 7.01214404 2.13652177]\n",
            "[4.00731041 7.01981956 5.55947871 2.50286184]\n",
            "[7.47304887 2.06211389 0.89140544 2.24231533]\n",
            "[6.62640883 6.44870307 0.74517251 4.49709725]\n",
            "[5.56885852 3.56919689 0.4432882  5.49441257]\n",
            "[5.53691469 5.28691615 7.57977926 1.97587236]\n",
            "[6.65746945 3.4657944  5.84056768 5.35582569]\n",
            "[3.14670248 3.60509958 3.35686533 0.39634742]\n",
            "[1.55656037 5.85289412 4.09024895 2.77353795]\n"
          ]
        }
      ]
    },
    {
      "cell_type": "markdown",
      "source": [
        "## Escritura de trayectorias"
      ],
      "metadata": {
        "id": "wkgQEFjJkB_L"
      }
    },
    {
      "cell_type": "code",
      "source": [
        "# Nombre del archivo\n",
        "nombre_archivo = 'Paths_99.txt'\n",
        "\n",
        "# Escribir las listas en el archivo de texto\n",
        "with open(nombre_archivo, 'w') as archivo:\n",
        "\n",
        "  i=10\n",
        "  for m in range(i+0,i+10):\n",
        "    punto in initialPoints[m]\n",
        "    samples = 1000\n",
        "    V,E, Vecinos = RRG_algorithm(punto, samples,radio_robot,0.8)\n",
        "    for k in range(0,16):\n",
        "      if (1 !=k):\n",
        "        Path, distance = optimalPath(V,E, Vecinos,punto, k)\n",
        "        for dot in Path:\n",
        "            archivo.write(f'{dot[0]},{dot[1]}\\n')\n",
        "        archivo.write('\\n')  # Separación entre las listas\n",
        "\n",
        "        print(\"k:\",k, end=' ')\n",
        "    i+=1\n",
        "    print(\"Punto \",i, \" completado.\")"
      ],
      "metadata": {
        "id": "WGua6SNzA085",
        "colab": {
          "base_uri": "https://localhost:8080/",
          "height": 235
        },
        "outputId": "365317f8-2131-4a01-d7b9-e709659ad46d"
      },
      "execution_count": null,
      "outputs": [
        {
          "output_type": "error",
          "ename": "NameError",
          "evalue": "ignored",
          "traceback": [
            "\u001b[0;31m---------------------------------------------------------------------------\u001b[0m",
            "\u001b[0;31mNameError\u001b[0m                                 Traceback (most recent call last)",
            "\u001b[0;32m<ipython-input-23-c31fae46e49f>\u001b[0m in \u001b[0;36m<cell line: 5>\u001b[0;34m()\u001b[0m\n\u001b[1;32m      7\u001b[0m   \u001b[0mi\u001b[0m\u001b[0;34m=\u001b[0m\u001b[0;36m10\u001b[0m\u001b[0;34m\u001b[0m\u001b[0;34m\u001b[0m\u001b[0m\n\u001b[1;32m      8\u001b[0m   \u001b[0;32mfor\u001b[0m \u001b[0mm\u001b[0m \u001b[0;32min\u001b[0m \u001b[0mrange\u001b[0m\u001b[0;34m(\u001b[0m\u001b[0mi\u001b[0m\u001b[0;34m+\u001b[0m\u001b[0;36m0\u001b[0m\u001b[0;34m,\u001b[0m\u001b[0mi\u001b[0m\u001b[0;34m+\u001b[0m\u001b[0;36m10\u001b[0m\u001b[0;34m)\u001b[0m\u001b[0;34m:\u001b[0m\u001b[0;34m\u001b[0m\u001b[0;34m\u001b[0m\u001b[0m\n\u001b[0;32m----> 9\u001b[0;31m     \u001b[0mpunto\u001b[0m \u001b[0;32min\u001b[0m \u001b[0minitialPoints\u001b[0m\u001b[0;34m[\u001b[0m\u001b[0mm\u001b[0m\u001b[0;34m]\u001b[0m\u001b[0;34m\u001b[0m\u001b[0;34m\u001b[0m\u001b[0m\n\u001b[0m\u001b[1;32m     10\u001b[0m     \u001b[0msamples\u001b[0m \u001b[0;34m=\u001b[0m \u001b[0;36m1000\u001b[0m\u001b[0;34m\u001b[0m\u001b[0;34m\u001b[0m\u001b[0m\n\u001b[1;32m     11\u001b[0m     \u001b[0mV\u001b[0m\u001b[0;34m,\u001b[0m\u001b[0mE\u001b[0m\u001b[0;34m,\u001b[0m \u001b[0mVecinos\u001b[0m \u001b[0;34m=\u001b[0m \u001b[0mRRG_algorithm\u001b[0m\u001b[0;34m(\u001b[0m\u001b[0mpunto\u001b[0m\u001b[0;34m,\u001b[0m \u001b[0msamples\u001b[0m\u001b[0;34m,\u001b[0m\u001b[0mradio_robot\u001b[0m\u001b[0;34m,\u001b[0m\u001b[0;36m0.8\u001b[0m\u001b[0;34m)\u001b[0m\u001b[0;34m\u001b[0m\u001b[0;34m\u001b[0m\u001b[0m\n",
            "\u001b[0;31mNameError\u001b[0m: name 'initialPoints' is not defined"
          ]
        }
      ]
    },
    {
      "cell_type": "markdown",
      "source": [
        "## Lectura de trayectorias"
      ],
      "metadata": {
        "id": "HBtkjNHpvC3R"
      }
    },
    {
      "cell_type": "code",
      "source": [
        "All_Paths=[]"
      ],
      "metadata": {
        "id": "qg6ICL9RxsS2"
      },
      "execution_count": null,
      "outputs": []
    },
    {
      "cell_type": "markdown",
      "source": [
        "Modificamos el numero dependiendo del numero de la region"
      ],
      "metadata": {
        "id": "l1otw5MekMYP"
      }
    },
    {
      "cell_type": "code",
      "source": [
        "nombre_archivo = \"Paths_15.txt\"\n",
        "# Leer las listas desde el archivo de texto\n",
        "listas_leidas = []\n",
        "lista_temporal = []\n",
        "\n",
        "\n",
        "with open(nombre_archivo, 'r') as archivo:\n",
        "    for linea in archivo:\n",
        "        linea = linea.strip()\n",
        "        if linea == '':\n",
        "            if lista_temporal:\n",
        "                listas_leidas.append(lista_temporal)\n",
        "                lista_temporal = []\n",
        "        else:\n",
        "            punto = tuple(map(float, linea.split(',')))\n",
        "            if len(punto) == 2:\n",
        "                lista_temporal.append(punto)\n",
        "\n",
        "# Asegurarse de agregar la última lista temporal a la lista de listas\n",
        "if lista_temporal:\n",
        "    listas_leidas.append(lista_temporal)\n",
        "\n",
        "# Imprimir las listas leídas\n",
        "for i, lista in enumerate(listas_leidas, 1):\n",
        "    pass\n",
        "    #print(f'Lista {i} leída:', lista)\n",
        "\n",
        "All_Paths += listas_leidas"
      ],
      "metadata": {
        "id": "1T-jdTnSvEW4"
      },
      "execution_count": null,
      "outputs": []
    },
    {
      "cell_type": "code",
      "source": [
        "print(len(All_Paths))"
      ],
      "metadata": {
        "colab": {
          "base_uri": "https://localhost:8080/"
        },
        "id": "fNuwRlyPvY2s",
        "outputId": "27874257-ee99-4e19-b190-e60cc9c1c3cb"
      },
      "execution_count": null,
      "outputs": [
        {
          "output_type": "stream",
          "name": "stdout",
          "text": [
            "2400\n"
          ]
        }
      ]
    },
    {
      "cell_type": "code",
      "source": [
        "Path, distance = optimalPath(V,E, Vecinos,initialPoints[0], 1)"
      ],
      "metadata": {
        "id": "Z1KVh-L8PRD4"
      },
      "execution_count": null,
      "outputs": []
    },
    {
      "cell_type": "code",
      "source": [
        "print(len(V))\n",
        "print(len(E))\n",
        "#print(V)\n",
        "#print(E)"
      ],
      "metadata": {
        "id": "CGzVFfqEQAGm"
      },
      "execution_count": null,
      "outputs": []
    },
    {
      "cell_type": "code",
      "source": [
        "from matplotlib import collections  as mc\n",
        "import pylab as pl\n",
        "\n",
        "fig, ax = plt.subplots()\n",
        "ax.set_xlim(liminf_X, limsup_X)\n",
        "ax.set_ylim(liminf_Y, limsup_Y)\n",
        "\n",
        "for i in range(len(obstacles)):\n",
        "  ax.add_patch(Rectangle(obstacles[i].pos, obstacles[i].width, obstacles[i].height,\n",
        "             facecolor = 'red',\n",
        "             fill=True))\n",
        "\n",
        "\n",
        "circle_patch = Circle(x_init, radio_robot, facecolor='blue')\n",
        "ax.add_patch(circle_patch)\n",
        "\n",
        "# Plotear los vértices\n",
        "for v in V:\n",
        "    x, y = v\n",
        "    circle_patch = Circle((x, y), radio_robot, facecolor='green')\n",
        "    ax.add_patch(circle_patch)\n",
        "    #plt.plot(x, y, 'ro', markersize=10)  # 'ro' representa círculos rojos\n",
        "\n",
        "# Plotear las aristas\n",
        "lc = mc.LineCollection(E, linewidths=.5)\n",
        "ax.add_collection(lc)\n",
        "ax.autoscale()\n",
        "\n",
        "\n",
        "\n",
        "ax.set_aspect('equal')\n",
        "\n",
        "plt.show()"
      ],
      "metadata": {
        "colab": {
          "base_uri": "https://localhost:8080/",
          "height": 430
        },
        "id": "YvHWJI7-Ntf2",
        "outputId": "64ecc16f-da74-4c31-d3b4-53e923813082"
      },
      "execution_count": null,
      "outputs": [
        {
          "output_type": "display_data",
          "data": {
            "text/plain": [
              "<Figure size 640x480 with 1 Axes>"
            ],
            "image/png": "[encoded data removed]"
          },
          "metadata": {}
        }
      ]
    },
    {
      "cell_type": "code",
      "source": [
        "Path, distance = optimalPath(V,E, Vecinos,x_init, np.array([0,1]))"
      ],
      "metadata": {
        "colab": {
          "base_uri": "https://localhost:8080/",
          "height": 328
        },
        "id": "QuGlBzifNy7q",
        "outputId": "74572a1b-30a3-4bef-d763-98dafe4dcc36"
      },
      "execution_count": null,
      "outputs": [
        {
          "output_type": "stream",
          "name": "stdout",
          "text": [
            "id: 750\n"
          ]
        },
        {
          "output_type": "error",
          "ename": "ValueError",
          "evalue": "ignored",
          "traceback": [
            "\u001b[0;31m---------------------------------------------------------------------------\u001b[0m",
            "\u001b[0;31mValueError\u001b[0m                                Traceback (most recent call last)",
            "\u001b[0;32m<ipython-input-196-0ba3ccc59801>\u001b[0m in \u001b[0;36m<cell line: 1>\u001b[0;34m()\u001b[0m\n\u001b[0;32m----> 1\u001b[0;31m \u001b[0mPath\u001b[0m\u001b[0;34m,\u001b[0m \u001b[0mdistance\u001b[0m \u001b[0;34m=\u001b[0m \u001b[0moptimalPath\u001b[0m\u001b[0;34m(\u001b[0m\u001b[0mV\u001b[0m\u001b[0;34m,\u001b[0m\u001b[0mE\u001b[0m\u001b[0;34m,\u001b[0m \u001b[0mVecinos\u001b[0m\u001b[0;34m,\u001b[0m\u001b[0mx_init\u001b[0m\u001b[0;34m,\u001b[0m \u001b[0mnp\u001b[0m\u001b[0;34m.\u001b[0m\u001b[0marray\u001b[0m\u001b[0;34m(\u001b[0m\u001b[0;34m[\u001b[0m\u001b[0;36m0\u001b[0m\u001b[0;34m,\u001b[0m\u001b[0;36m1\u001b[0m\u001b[0;34m]\u001b[0m\u001b[0;34m)\u001b[0m\u001b[0;34m)\u001b[0m\u001b[0;34m\u001b[0m\u001b[0;34m\u001b[0m\u001b[0m\n\u001b[0m",
            "\u001b[0;32m<ipython-input-182-da93451908ad>\u001b[0m in \u001b[0;36moptimalPath\u001b[0;34m(V, E, Vecinos, inicio, regionmeta)\u001b[0m\n\u001b[1;32m      3\u001b[0m   \u001b[0minicio\u001b[0m\u001b[0;34m=\u001b[0m\u001b[0mNearest\u001b[0m\u001b[0;34m(\u001b[0m\u001b[0mV\u001b[0m\u001b[0;34m,\u001b[0m\u001b[0minicio\u001b[0m\u001b[0;34m[\u001b[0m\u001b[0;36m0\u001b[0m\u001b[0;34m]\u001b[0m\u001b[0;34m,\u001b[0m\u001b[0minicio\u001b[0m\u001b[0;34m[\u001b[0m\u001b[0;36m1\u001b[0m\u001b[0;34m]\u001b[0m\u001b[0;34m)\u001b[0m\u001b[0;34m\u001b[0m\u001b[0;34m\u001b[0m\u001b[0m\n\u001b[1;32m      4\u001b[0m   \u001b[0;31m#fin=Nearest(V,fin[0],fin[1])\u001b[0m\u001b[0;34m\u001b[0m\u001b[0;34m\u001b[0m\u001b[0m\n\u001b[0;32m----> 5\u001b[0;31m   \u001b[0mcamino_optimo\u001b[0m\u001b[0;34m,\u001b[0m \u001b[0mdistancia_recorrida\u001b[0m \u001b[0;34m=\u001b[0m \u001b[0mdijkstra\u001b[0m\u001b[0;34m(\u001b[0m\u001b[0mV\u001b[0m\u001b[0;34m,\u001b[0m \u001b[0mE\u001b[0m\u001b[0;34m,\u001b[0m \u001b[0mVecinos\u001b[0m\u001b[0;34m,\u001b[0m \u001b[0minicio\u001b[0m\u001b[0;34m,\u001b[0m \u001b[0mregionmeta\u001b[0m\u001b[0;34m)\u001b[0m\u001b[0;34m\u001b[0m\u001b[0;34m\u001b[0m\u001b[0m\n\u001b[0m\u001b[1;32m      6\u001b[0m   \u001b[0;32mif\u001b[0m \u001b[0mcamino_optimo\u001b[0m \u001b[0;32mis\u001b[0m \u001b[0;32mNone\u001b[0m\u001b[0;34m:\u001b[0m\u001b[0;34m\u001b[0m\u001b[0;34m\u001b[0m\u001b[0m\n\u001b[1;32m      7\u001b[0m     \u001b[0;31m#pass\u001b[0m\u001b[0;34m\u001b[0m\u001b[0;34m\u001b[0m\u001b[0m\n",
            "\u001b[0;32m<ipython-input-175-2e9fbe0d1eb8>\u001b[0m in \u001b[0;36mdijkstra\u001b[0;34m(V, E, Vecinos, inicio, regionmeta)\u001b[0m\n\u001b[1;32m     48\u001b[0m         \u001b[0;31m#if actual_id == np.where((V == fin).all(axis=1))[0][0]:\u001b[0m\u001b[0;34m\u001b[0m\u001b[0;34m\u001b[0m\u001b[0m\n\u001b[1;32m     49\u001b[0m         \u001b[0;31m#    break\u001b[0m\u001b[0;34m\u001b[0m\u001b[0;34m\u001b[0m\u001b[0m\n\u001b[0;32m---> 50\u001b[0;31m         \u001b[0;32mif\u001b[0m \u001b[0mRegionmeta\u001b[0m\u001b[0;34m(\u001b[0m\u001b[0mV\u001b[0m\u001b[0;34m[\u001b[0m\u001b[0mactual_id\u001b[0m\u001b[0;34m]\u001b[0m\u001b[0;34m,\u001b[0m \u001b[0mregionmeta\u001b[0m\u001b[0;34m)\u001b[0m\u001b[0;34m:\u001b[0m\u001b[0;34m\u001b[0m\u001b[0;34m\u001b[0m\u001b[0m\n\u001b[0m\u001b[1;32m     51\u001b[0m           \u001b[0;32mbreak\u001b[0m\u001b[0;34m\u001b[0m\u001b[0;34m\u001b[0m\u001b[0m\n\u001b[1;32m     52\u001b[0m \u001b[0;34m\u001b[0m\u001b[0m\n",
            "\u001b[0;32m<ipython-input-173-c9e90a55c0d9>\u001b[0m in \u001b[0;36mRegionmeta\u001b[0;34m(x, i)\u001b[0m\n\u001b[1;32m      1\u001b[0m \u001b[0;32mdef\u001b[0m \u001b[0mRegionmeta\u001b[0m\u001b[0;34m(\u001b[0m\u001b[0mx\u001b[0m\u001b[0;34m,\u001b[0m\u001b[0mi\u001b[0m\u001b[0;34m)\u001b[0m\u001b[0;34m:\u001b[0m\u001b[0;34m\u001b[0m\u001b[0;34m\u001b[0m\u001b[0m\n\u001b[1;32m      2\u001b[0m \u001b[0;34m\u001b[0m\u001b[0m\n\u001b[0;32m----> 3\u001b[0;31m   \u001b[0;32mif\u001b[0m\u001b[0;34m(\u001b[0m\u001b[0;36m2\u001b[0m\u001b[0;34m*\u001b[0m\u001b[0;34m(\u001b[0m\u001b[0mi\u001b[0m\u001b[0;34m%\u001b[0m\u001b[0;36m4\u001b[0m\u001b[0;34m)\u001b[0m\u001b[0;34m+\u001b[0m\u001b[0mradio_robot\u001b[0m\u001b[0;34m<=\u001b[0m\u001b[0mx\u001b[0m\u001b[0;34m[\u001b[0m\u001b[0;36m0\u001b[0m\u001b[0;34m]\u001b[0m \u001b[0;32mand\u001b[0m \u001b[0mx\u001b[0m\u001b[0;34m[\u001b[0m\u001b[0;36m0\u001b[0m\u001b[0;34m]\u001b[0m\u001b[0;34m<=\u001b[0m \u001b[0;36m2\u001b[0m\u001b[0;34m*\u001b[0m\u001b[0;34m(\u001b[0m\u001b[0mi\u001b[0m\u001b[0;34m%\u001b[0m\u001b[0;36m4\u001b[0m \u001b[0;34m+\u001b[0m\u001b[0;36m1\u001b[0m\u001b[0;34m)\u001b[0m\u001b[0;34m-\u001b[0m\u001b[0mradio_robot\u001b[0m\u001b[0;34m)\u001b[0m\u001b[0;34m:\u001b[0m\u001b[0;34m\u001b[0m\u001b[0;34m\u001b[0m\u001b[0m\n\u001b[0m\u001b[1;32m      4\u001b[0m     \u001b[0;32mif\u001b[0m \u001b[0;34m(\u001b[0m\u001b[0;36m2\u001b[0m\u001b[0;34m*\u001b[0m\u001b[0;34m(\u001b[0m\u001b[0mint\u001b[0m\u001b[0;34m(\u001b[0m\u001b[0mi\u001b[0m\u001b[0;34m/\u001b[0m\u001b[0;36m4\u001b[0m\u001b[0;34m)\u001b[0m\u001b[0;34m%\u001b[0m\u001b[0;36m5\u001b[0m\u001b[0;34m)\u001b[0m\u001b[0;34m+\u001b[0m\u001b[0mradio_robot\u001b[0m\u001b[0;34m<=\u001b[0m\u001b[0mx\u001b[0m\u001b[0;34m[\u001b[0m\u001b[0;36m1\u001b[0m\u001b[0;34m]\u001b[0m \u001b[0;32mand\u001b[0m \u001b[0mx\u001b[0m\u001b[0;34m[\u001b[0m\u001b[0;36m1\u001b[0m\u001b[0;34m]\u001b[0m\u001b[0;34m<=\u001b[0m\u001b[0;36m2\u001b[0m\u001b[0;34m*\u001b[0m\u001b[0;34m(\u001b[0m\u001b[0;34m(\u001b[0m\u001b[0mint\u001b[0m\u001b[0;34m(\u001b[0m\u001b[0mi\u001b[0m\u001b[0;34m/\u001b[0m\u001b[0;36m4\u001b[0m\u001b[0;34m)\u001b[0m\u001b[0;34m+\u001b[0m\u001b[0;36m1\u001b[0m\u001b[0;34m)\u001b[0m\u001b[0;34m%\u001b[0m\u001b[0;36m5\u001b[0m\u001b[0;34m)\u001b[0m\u001b[0;34m-\u001b[0m\u001b[0mradio_robot\u001b[0m\u001b[0;34m)\u001b[0m\u001b[0;34m:\u001b[0m\u001b[0;34m\u001b[0m\u001b[0;34m\u001b[0m\u001b[0m\n\u001b[1;32m      5\u001b[0m       \u001b[0;32mreturn\u001b[0m \u001b[0;32mTrue\u001b[0m\u001b[0;34m\u001b[0m\u001b[0;34m\u001b[0m\u001b[0m\n",
            "\u001b[0;31mValueError\u001b[0m: The truth value of an array with more than one element is ambiguous. Use a.any() or a.all()"
          ]
        }
      ]
    },
    {
      "cell_type": "code",
      "source": [
        "a=np.array([5.354518028490449, 1.6277854446529645])\n",
        "b=np.array([6.354364549300666, 0.7889440173821217])\n",
        "np.linalg.norm(a-b)"
      ],
      "metadata": {
        "colab": {
          "base_uri": "https://localhost:8080/"
        },
        "id": "mf0TiS3_aw5I",
        "outputId": "26c37a47-6840-455a-8539-d3e0d6d99e6b"
      },
      "execution_count": null,
      "outputs": [
        {
          "output_type": "execute_result",
          "data": {
            "text/plain": [
              "1.305123750945511"
            ]
          },
          "metadata": {},
          "execution_count": 26
        }
      ]
    },
    {
      "cell_type": "code",
      "source": [
        "fig, ax = plt.subplots()\n",
        "ax.set_xlim(liminf_X, limsup_X)\n",
        "ax.set_ylim(liminf_Y, limsup_Y)\n",
        "\n",
        "for i in range(len(obstacles)):\n",
        "  ax.add_patch(Rectangle(obstacles[i].pos, obstacles[i].width, obstacles[i].height,\n",
        "             facecolor = 'red',\n",
        "             fill=True))\n",
        "\n",
        "\n",
        "circle_patch = Circle(x_init, radio_robot, facecolor='blue')\n",
        "ax.add_patch(circle_patch)\n",
        "\n",
        "# Plotear los vértices\n",
        "for v in V:\n",
        "    x, y = v\n",
        "    circle_patch = Circle((x, y), radio_robot, facecolor='green')\n",
        "    ax.add_patch(circle_patch)\n",
        "    #plt.plot(x, y, 'ro', markersize=10)  # 'ro' representa círculos rojos\n",
        "\n",
        "# Plotear las aristas\n",
        "i=0\n",
        "#for u, v in E:\n",
        "    #print(i, end=' \\r')\n",
        "    #x1, y1 = u\n",
        "    #x2, y2 = v\n",
        "    #plt.plot([x1, x2], [y1, y2], 'b-')  # 'b-' representa líneas azules\n",
        "    #i+=1\n",
        "\n",
        "for v in Path:\n",
        "    x, y = v\n",
        "    circle_patch = Circle((x, y), radio_robot, facecolor='yellow')\n",
        "    ax.add_patch(circle_patch)\n",
        "    #plt.plot(x, y, 'ro', markersize=10)  # 'ro' representa círculos rojos\n",
        "\n",
        "\n",
        "\n",
        "ax.set_aspect('equal')\n",
        "\n",
        "plt.show()"
      ],
      "metadata": {
        "colab": {
          "base_uri": "https://localhost:8080/",
          "height": 435
        },
        "id": "iaTMl6s_QWON",
        "outputId": "a56f69ca-71d3-4a32-f0b6-36272af664d9"
      },
      "execution_count": null,
      "outputs": [
        {
          "output_type": "display_data",
          "data": {
            "text/plain": [
              "<Figure size 640x480 with 1 Axes>"
            ],
            "image/png": "[encoded data removed]"
          },
          "metadata": {}
        }
      ]
    },
    {
      "cell_type": "markdown",
      "source": [
        "**Prueba Algoritmo Caso extremo**"
      ],
      "metadata": {
        "id": "_0lbQK6efsVg"
      }
    },
    {
      "cell_type": "code",
      "source": [
        "obstacles = []\n",
        "obstacles.append(Obstacle((2.5,0), 6, 3.3))\n",
        "obstacles.append(Obstacle((2.5, 4), 6, 6))"
      ],
      "metadata": {
        "id": "dIJz9hpBfrra"
      },
      "execution_count": null,
      "outputs": []
    },
    {
      "cell_type": "code",
      "source": [
        "samples = 1000\n",
        "V,E, Vecinos = RRG_algorithm(x_init, samples,radio_robot,0.8)"
      ],
      "metadata": {
        "id": "BiszJsY_gH0F"
      },
      "execution_count": null,
      "outputs": []
    },
    {
      "cell_type": "code",
      "source": [
        "print(len(V))\n",
        "print(len(E))\n",
        "#print(V)\n",
        "#print(E)"
      ],
      "metadata": {
        "colab": {
          "base_uri": "https://localhost:8080/"
        },
        "outputId": "13cdd593-73f8-423a-fb25-fbcb480fddf1",
        "id": "KiNC-ayKgH0G"
      },
      "execution_count": null,
      "outputs": [
        {
          "output_type": "stream",
          "name": "stdout",
          "text": [
            "1000\n",
            "30884\n"
          ]
        }
      ]
    },
    {
      "cell_type": "code",
      "source": [
        "fig, ax = plt.subplots()\n",
        "ax.set_xlim(liminf_X, limsup_X)\n",
        "ax.set_ylim(liminf_Y, limsup_Y)\n",
        "\n",
        "for i in range(len(obstacles)):\n",
        "  ax.add_patch(Rectangle(obstacles[i].pos, obstacles[i].width, obstacles[i].height,\n",
        "             facecolor = 'red',\n",
        "             fill=True))\n",
        "\n",
        "\n",
        "circle_patch = Circle(x_init, radio_robot, facecolor='blue')\n",
        "ax.add_patch(circle_patch)\n",
        "\n",
        "# Plotear los vértices\n",
        "for v in V:\n",
        "    x, y = v\n",
        "    circle_patch = Circle((x, y), radio_robot, facecolor='green')\n",
        "    ax.add_patch(circle_patch)\n",
        "    #plt.plot(x, y, 'ro', markersize=10)  # 'ro' representa círculos rojos\n",
        "\n",
        "# Plotear las aristas\n",
        "i=0\n",
        "for u, v in E:\n",
        "    print(i, end=' \\r')\n",
        "    x1, y1 = u\n",
        "    x2, y2 = v\n",
        "    plt.plot([x1, x2], [y1, y2], 'b-')  # 'b-' representa líneas azules\n",
        "    i+=1\n",
        "\n",
        "\n",
        "\n",
        "ax.set_aspect('equal')\n",
        "\n",
        "plt.show()"
      ],
      "metadata": {
        "colab": {
          "base_uri": "https://localhost:8080/",
          "height": 435
        },
        "outputId": "6579220b-07b6-4c6d-80b0-d5f64a7be8ba",
        "id": "HZR9NgSlgH0G"
      },
      "execution_count": null,
      "outputs": [
        {
          "output_type": "stream",
          "name": "stdout",
          "text": []
        },
        {
          "output_type": "display_data",
          "data": {
            "text/plain": [
              "<Figure size 640x480 with 1 Axes>"
            ],
            "image/png": "[encoded data removed]"
          },
          "metadata": {}
        }
      ]
    },
    {
      "cell_type": "markdown",
      "source": [
        "\n",
        "\n",
        "# Entrenamiento"
      ],
      "metadata": {
        "id": "GA_L3cOXzkDg"
      }
    },
    {
      "cell_type": "markdown",
      "source": [
        "Generación de tuplas"
      ],
      "metadata": {
        "id": "X39ZaWqJzdc8"
      }
    },
    {
      "cell_type": "code",
      "source": [
        "All_TuplesX=[]\n",
        "All_TuplesY=[]"
      ],
      "metadata": {
        "id": "MRCcejbqz6Q9"
      },
      "execution_count": null,
      "outputs": []
    },
    {
      "cell_type": "code",
      "source": [
        "for i in range(len(All_Paths)):\n",
        "  for k in range(len(All_Paths[i])):\n",
        "    #print(All_Paths[i][k],\" \", All_Paths[i][-1])\n",
        "    All_TuplesX.append([All_Paths[i][k], All_Paths[i][-1]])\n",
        "    if(k < len(All_Paths[i])-1):\n",
        "      All_TuplesY.append(All_Paths[i][k+1])\n",
        "    else:\n",
        "      All_TuplesY.append(All_Paths[i][k])"
      ],
      "metadata": {
        "id": "-cLp8Sv0zjMZ"
      },
      "execution_count": null,
      "outputs": []
    },
    {
      "cell_type": "code",
      "source": [
        "All_TuplesX =[[[float(elemento) for elemento in tupla] for tupla in sublista] for sublista in All_TuplesX]\n",
        "lista_combinada=[]\n",
        "for sublistas in All_TuplesX:\n",
        "    sublista_combinada = []\n",
        "    for sublista in sublistas:\n",
        "        sublista_combinada.extend(sublista)\n",
        "    lista_combinada.append(sublista_combinada)\n",
        "All_TuplesX = lista_combinada\n",
        "All_TuplesY = [[float(elemento) for elemento in tupla] for tupla in All_TuplesY]\n",
        "print(All_TuplesX[0:10])\n",
        "print(All_TuplesY[0])"
      ],
      "metadata": {
        "colab": {
          "base_uri": "https://localhost:8080/"
        },
        "id": "V_1ZzBbfzdyn",
        "outputId": "92936e55-fb4a-4587-a493-c63794dc1a5f"
      },
      "execution_count": null,
      "outputs": [
        {
          "output_type": "stream",
          "name": "stdout",
          "text": [
            "[[1.0523528875907853, 0.7584937909327754, 3.6845811707595244, 1.4512366124892682], [1.324216191600773, 1.4793365926719713, 3.6845811707595244, 1.4512366124892682], [1.51291231137191, 1.984264989335928, 3.6845811707595244, 1.4512366124892682], [1.551314825637954, 2.25418551699654, 3.6845811707595244, 1.4512366124892682], [1.927852748847671, 2.460624374753451, 3.6845811707595244, 1.4512366124892682], [2.3033085838512752, 2.447066660361959, 3.6845811707595244, 1.4512366124892682], [3.0578452052015357, 2.4703835842821715, 3.6845811707595244, 1.4512366124892682], [3.8397982412976392, 2.4929687754074137, 3.6845811707595244, 1.4512366124892682], [4.421917961324214, 2.3421184001628133, 3.6845811707595244, 1.4512366124892682], [4.47266510262236, 1.760802270504004, 3.6845811707595244, 1.4512366124892682]]\n",
            "[1.324216191600773, 1.4793365926719713]\n"
          ]
        }
      ]
    },
    {
      "cell_type": "code",
      "source": [
        "print(len(All_TuplesX))\n",
        "print(len(All_TuplesY))"
      ],
      "metadata": {
        "colab": {
          "base_uri": "https://localhost:8080/"
        },
        "id": "wD2HimYw3Ymi",
        "outputId": "d615ec5e-9895-4ca8-c612-86916e2ab327"
      },
      "execution_count": null,
      "outputs": [
        {
          "output_type": "stream",
          "name": "stdout",
          "text": [
            "24944\n",
            "24944\n"
          ]
        }
      ]
    },
    {
      "cell_type": "code",
      "source": [
        "import random\n",
        "def get_training_data(Lista_TuplasX,Lista_TuplasY, s1,s2,s3):\n",
        "\n",
        "  # Calcular el número de elementos para cada sublista\n",
        "  n = len(Lista_TuplasX)\n",
        "  n1 = int(n * s1)\n",
        "  n2 = int(n * s2)\n",
        "  n3 = n - n1 - n2\n",
        "\n",
        "  Enumeracion=[]\n",
        "  for i in range(n):\n",
        "    Enumeracion.append(i)\n",
        "\n",
        "\n",
        "  # Mezclar los elementos de la lista de forma aleatoria\n",
        "  random.shuffle(Enumeracion)\n",
        "\n",
        "  # Particionar la lista en tres sublistas\n",
        "  sublista1X,sublista1Y = set_sublist(Lista_TuplasX,Lista_TuplasY, Enumeracion,0, n1)\n",
        "  sublista2X,sublista2Y = set_sublist(Lista_TuplasX,Lista_TuplasY, Enumeracion,n1, n1+n2)\n",
        "  sublista3X,sublista3Y = set_sublist(Lista_TuplasX,Lista_TuplasY, Enumeracion,n1+n2, n)\n",
        "\n",
        "  return sublista1X,sublista1Y,sublista2X,sublista2Y, sublista3X,sublista3Y\n",
        "\n",
        "def set_sublist(Lista_TuplasX,Lista_TuplasY, Enum,start, end):\n",
        "  subX=[]\n",
        "  subY=[]\n",
        "  for i in Enum[start:end]:\n",
        "    subX.append(Lista_TuplasX[i])\n",
        "    subY.append(Lista_TuplasY[i])\n",
        "\n",
        "  return subX,subY"
      ],
      "metadata": {
        "id": "-lo7ERNU49iW"
      },
      "execution_count": null,
      "outputs": []
    },
    {
      "cell_type": "code",
      "source": [
        "X_train, Y_train, X_test, Y_test, X_act, Y_act =get_training_data(All_TuplesX,All_TuplesY, 0.85,0.10,0.5)"
      ],
      "metadata": {
        "id": "yo5Y_Ye44WXb"
      },
      "execution_count": null,
      "outputs": []
    },
    {
      "cell_type": "code",
      "source": [
        "print(len(X_train))\n",
        "print(len(X_test))\n",
        "print(len(X_act))"
      ],
      "metadata": {
        "colab": {
          "base_uri": "https://localhost:8080/"
        },
        "id": "k2PK1Pxm_qEj",
        "outputId": "de1d4403-1f33-4b04-a34e-3d521af12afc"
      },
      "execution_count": null,
      "outputs": [
        {
          "output_type": "stream",
          "name": "stdout",
          "text": [
            "21202\n",
            "2494\n",
            "1248\n"
          ]
        }
      ]
    },
    {
      "cell_type": "code",
      "source": [
        "print(X_train[0])\n",
        "print(Y_train[0])"
      ],
      "metadata": {
        "colab": {
          "base_uri": "https://localhost:8080/"
        },
        "id": "OTs2p_IvV24k",
        "outputId": "d9ae061b-9cb0-4997-b5d9-f91ee11af6de"
      },
      "execution_count": null,
      "outputs": [
        {
          "output_type": "stream",
          "name": "stdout",
          "text": [
            "[7.398409016843264, 6.247418851355464, 7.398745155243019, 6.324014995978162]\n",
            "[7.398745155243019, 6.324014995978162]\n"
          ]
        }
      ]
    },
    {
      "cell_type": "markdown",
      "source": [
        "## Tensor Flow"
      ],
      "metadata": {
        "id": "nhA06-ZE26Ga"
      }
    },
    {
      "cell_type": "code",
      "source": [
        "import tensorflow as tf\n",
        "import keras as keras\n",
        "from keras.layers import PReLU\n",
        "from keras import layers, losses, models\n",
        "from keras.models import Model\n",
        "import numpy as np"
      ],
      "metadata": {
        "id": "iZUBXW202_9c"
      },
      "execution_count": null,
      "outputs": []
    },
    {
      "cell_type": "markdown",
      "source": [
        "Modelo"
      ],
      "metadata": {
        "id": "irZfcE0O3HR_"
      }
    },
    {
      "cell_type": "code",
      "source": [
        "mlp = models.Sequential([\n",
        "  layers.Dense(128, activation=PReLU()),\n",
        "\tlayers.Dropout(0.25),\n",
        "  layers.Dense(64),\n",
        "\tlayers.Activation(activation=PReLU()),\n",
        "\tlayers.Dropout(0.25),\n",
        "  layers.Dense(32),\n",
        "\tlayers.Dropout(0.25),\n",
        "\tlayers.Activation(activation=PReLU()),\n",
        "  layers.Dense(2),\n",
        "\t#layers.Activation(activation=PReLU()),\n",
        "])"
      ],
      "metadata": {
        "id": "Tty_o53i3I32"
      },
      "execution_count": null,
      "outputs": []
    },
    {
      "cell_type": "code",
      "source": [
        "samples = 800\n",
        "train_input, train_targets = X_train, Y_train\n",
        "test_input, test_targets  = X_test, Y_test\n",
        "\n",
        "#print(\"Shape of train input: \", train_input.shape)\n",
        "#print(\"Shape of test input: \", test_input.shape)\n",
        "#print(\"Shape of train targets: \", train_targets.shape)\n",
        "#print(\"Shape of test targets: \", test_targets.shape)"
      ],
      "metadata": {
        "id": "14O-Cpgq3SmM"
      },
      "execution_count": null,
      "outputs": []
    },
    {
      "cell_type": "code",
      "source": [
        "print(train_input[1])\n",
        "print(train_targets[1])"
      ],
      "metadata": {
        "colab": {
          "base_uri": "https://localhost:8080/"
        },
        "id": "-HDMg3-YWLZ_",
        "outputId": "1a03435d-9bea-4a55-8377-f72c30d0d27d"
      },
      "execution_count": null,
      "outputs": [
        {
          "output_type": "stream",
          "name": "stdout",
          "text": [
            "[3.250148015403255, 2.6353459447588383, 1.7449714850951021, 3.0510523403780465]\n",
            "[3.0591465552596837, 2.718097032536602]\n"
          ]
        }
      ]
    },
    {
      "cell_type": "markdown",
      "metadata": {
        "id": "WkzF4hj3ow14"
      },
      "source": [
        "Entrenamiento del modelo de planificación, se guarda el modelo cuyo valor en la pérdida de validación sea menor."
      ]
    },
    {
      "cell_type": "code",
      "execution_count": null,
      "metadata": {
        "colab": {
          "base_uri": "https://localhost:8080/",
          "height": 432
        },
        "id": "tHFiulw5ouLu",
        "outputId": "491a833b-e429-4099-a90b-5c3d3428ac05"
      },
      "outputs": [
        {
          "output_type": "stream",
          "name": "stdout",
          "text": [
            "Epoch 1/4000\n",
            "166/166 - 3s - loss: 3.0502 - val_loss: 0.3550 - 3s/epoch - 16ms/step\n",
            "Epoch 2/4000\n"
          ]
        },
        {
          "output_type": "error",
          "ename": "KeyboardInterrupt",
          "evalue": "ignored",
          "traceback": [
            "\u001b[0;31m---------------------------------------------------------------------------\u001b[0m",
            "\u001b[0;31mKeyboardInterrupt\u001b[0m                         Traceback (most recent call last)",
            "\u001b[0;32m<ipython-input-53-98f0e4113dd9>\u001b[0m in \u001b[0;36m<cell line: 27>\u001b[0;34m()\u001b[0m\n\u001b[1;32m     25\u001b[0m \u001b[0;34m\u001b[0m\u001b[0m\n\u001b[1;32m     26\u001b[0m \u001b[0;31m# Training\u001b[0m\u001b[0;34m\u001b[0m\u001b[0;34m\u001b[0m\u001b[0m\n\u001b[0;32m---> 27\u001b[0;31m history = mlp.fit(x = train_input,\n\u001b[0m\u001b[1;32m     28\u001b[0m                                         \u001b[0my\u001b[0m \u001b[0;34m=\u001b[0m \u001b[0mtrain_targets\u001b[0m\u001b[0;34m,\u001b[0m\u001b[0;34m\u001b[0m\u001b[0;34m\u001b[0m\u001b[0m\n\u001b[1;32m     29\u001b[0m                                         \u001b[0mvalidation_data\u001b[0m\u001b[0;34m=\u001b[0m\u001b[0;34m(\u001b[0m\u001b[0mtest_input\u001b[0m\u001b[0;34m,\u001b[0m \u001b[0mtest_targets\u001b[0m\u001b[0;34m)\u001b[0m\u001b[0;34m,\u001b[0m\u001b[0;34m\u001b[0m\u001b[0;34m\u001b[0m\u001b[0m\n",
            "\u001b[0;32m/usr/local/lib/python3.10/dist-packages/keras/utils/traceback_utils.py\u001b[0m in \u001b[0;36merror_handler\u001b[0;34m(*args, **kwargs)\u001b[0m\n\u001b[1;32m     63\u001b[0m         \u001b[0mfiltered_tb\u001b[0m \u001b[0;34m=\u001b[0m \u001b[0;32mNone\u001b[0m\u001b[0;34m\u001b[0m\u001b[0;34m\u001b[0m\u001b[0m\n\u001b[1;32m     64\u001b[0m         \u001b[0;32mtry\u001b[0m\u001b[0;34m:\u001b[0m\u001b[0;34m\u001b[0m\u001b[0;34m\u001b[0m\u001b[0m\n\u001b[0;32m---> 65\u001b[0;31m             \u001b[0;32mreturn\u001b[0m \u001b[0mfn\u001b[0m\u001b[0;34m(\u001b[0m\u001b[0;34m*\u001b[0m\u001b[0margs\u001b[0m\u001b[0;34m,\u001b[0m \u001b[0;34m**\u001b[0m\u001b[0mkwargs\u001b[0m\u001b[0;34m)\u001b[0m\u001b[0;34m\u001b[0m\u001b[0;34m\u001b[0m\u001b[0m\n\u001b[0m\u001b[1;32m     66\u001b[0m         \u001b[0;32mexcept\u001b[0m \u001b[0mException\u001b[0m \u001b[0;32mas\u001b[0m \u001b[0me\u001b[0m\u001b[0;34m:\u001b[0m\u001b[0;34m\u001b[0m\u001b[0;34m\u001b[0m\u001b[0m\n\u001b[1;32m     67\u001b[0m             \u001b[0mfiltered_tb\u001b[0m \u001b[0;34m=\u001b[0m \u001b[0m_process_traceback_frames\u001b[0m\u001b[0;34m(\u001b[0m\u001b[0me\u001b[0m\u001b[0;34m.\u001b[0m\u001b[0m__traceback__\u001b[0m\u001b[0;34m)\u001b[0m\u001b[0;34m\u001b[0m\u001b[0;34m\u001b[0m\u001b[0m\n",
            "\u001b[0;32m/usr/local/lib/python3.10/dist-packages/keras/engine/training.py\u001b[0m in \u001b[0;36mfit\u001b[0;34m(self, x, y, batch_size, epochs, verbose, callbacks, validation_split, validation_data, shuffle, class_weight, sample_weight, initial_epoch, steps_per_epoch, validation_steps, validation_batch_size, validation_freq, max_queue_size, workers, use_multiprocessing)\u001b[0m\n\u001b[1;32m   1683\u001b[0m                         ):\n\u001b[1;32m   1684\u001b[0m                             \u001b[0mcallbacks\u001b[0m\u001b[0;34m.\u001b[0m\u001b[0mon_train_batch_begin\u001b[0m\u001b[0;34m(\u001b[0m\u001b[0mstep\u001b[0m\u001b[0;34m)\u001b[0m\u001b[0;34m\u001b[0m\u001b[0;34m\u001b[0m\u001b[0m\n\u001b[0;32m-> 1685\u001b[0;31m                             \u001b[0mtmp_logs\u001b[0m \u001b[0;34m=\u001b[0m \u001b[0mself\u001b[0m\u001b[0;34m.\u001b[0m\u001b[0mtrain_function\u001b[0m\u001b[0;34m(\u001b[0m\u001b[0miterator\u001b[0m\u001b[0;34m)\u001b[0m\u001b[0;34m\u001b[0m\u001b[0;34m\u001b[0m\u001b[0m\n\u001b[0m\u001b[1;32m   1686\u001b[0m                             \u001b[0;32mif\u001b[0m \u001b[0mdata_handler\u001b[0m\u001b[0;34m.\u001b[0m\u001b[0mshould_sync\u001b[0m\u001b[0;34m:\u001b[0m\u001b[0;34m\u001b[0m\u001b[0;34m\u001b[0m\u001b[0m\n\u001b[1;32m   1687\u001b[0m                                 \u001b[0mcontext\u001b[0m\u001b[0;34m.\u001b[0m\u001b[0masync_wait\u001b[0m\u001b[0;34m(\u001b[0m\u001b[0;34m)\u001b[0m\u001b[0;34m\u001b[0m\u001b[0;34m\u001b[0m\u001b[0m\n",
            "\u001b[0;32m/usr/local/lib/python3.10/dist-packages/tensorflow/python/util/traceback_utils.py\u001b[0m in \u001b[0;36merror_handler\u001b[0;34m(*args, **kwargs)\u001b[0m\n\u001b[1;32m    148\u001b[0m     \u001b[0mfiltered_tb\u001b[0m \u001b[0;34m=\u001b[0m \u001b[0;32mNone\u001b[0m\u001b[0;34m\u001b[0m\u001b[0;34m\u001b[0m\u001b[0m\n\u001b[1;32m    149\u001b[0m     \u001b[0;32mtry\u001b[0m\u001b[0;34m:\u001b[0m\u001b[0;34m\u001b[0m\u001b[0;34m\u001b[0m\u001b[0m\n\u001b[0;32m--> 150\u001b[0;31m       \u001b[0;32mreturn\u001b[0m \u001b[0mfn\u001b[0m\u001b[0;34m(\u001b[0m\u001b[0;34m*\u001b[0m\u001b[0margs\u001b[0m\u001b[0;34m,\u001b[0m \u001b[0;34m**\u001b[0m\u001b[0mkwargs\u001b[0m\u001b[0;34m)\u001b[0m\u001b[0;34m\u001b[0m\u001b[0;34m\u001b[0m\u001b[0m\n\u001b[0m\u001b[1;32m    151\u001b[0m     \u001b[0;32mexcept\u001b[0m \u001b[0mException\u001b[0m \u001b[0;32mas\u001b[0m \u001b[0me\u001b[0m\u001b[0;34m:\u001b[0m\u001b[0;34m\u001b[0m\u001b[0;34m\u001b[0m\u001b[0m\n\u001b[1;32m    152\u001b[0m       \u001b[0mfiltered_tb\u001b[0m \u001b[0;34m=\u001b[0m \u001b[0m_process_traceback_frames\u001b[0m\u001b[0;34m(\u001b[0m\u001b[0me\u001b[0m\u001b[0;34m.\u001b[0m\u001b[0m__traceback__\u001b[0m\u001b[0;34m)\u001b[0m\u001b[0;34m\u001b[0m\u001b[0;34m\u001b[0m\u001b[0m\n",
            "\u001b[0;32m/usr/local/lib/python3.10/dist-packages/tensorflow/python/eager/polymorphic_function/polymorphic_function.py\u001b[0m in \u001b[0;36m__call__\u001b[0;34m(self, *args, **kwds)\u001b[0m\n\u001b[1;32m    892\u001b[0m \u001b[0;34m\u001b[0m\u001b[0m\n\u001b[1;32m    893\u001b[0m       \u001b[0;32mwith\u001b[0m \u001b[0mOptionalXlaContext\u001b[0m\u001b[0;34m(\u001b[0m\u001b[0mself\u001b[0m\u001b[0;34m.\u001b[0m\u001b[0m_jit_compile\u001b[0m\u001b[0;34m)\u001b[0m\u001b[0;34m:\u001b[0m\u001b[0;34m\u001b[0m\u001b[0;34m\u001b[0m\u001b[0m\n\u001b[0;32m--> 894\u001b[0;31m         \u001b[0mresult\u001b[0m \u001b[0;34m=\u001b[0m \u001b[0mself\u001b[0m\u001b[0;34m.\u001b[0m\u001b[0m_call\u001b[0m\u001b[0;34m(\u001b[0m\u001b[0;34m*\u001b[0m\u001b[0margs\u001b[0m\u001b[0;34m,\u001b[0m \u001b[0;34m**\u001b[0m\u001b[0mkwds\u001b[0m\u001b[0;34m)\u001b[0m\u001b[0;34m\u001b[0m\u001b[0;34m\u001b[0m\u001b[0m\n\u001b[0m\u001b[1;32m    895\u001b[0m \u001b[0;34m\u001b[0m\u001b[0m\n\u001b[1;32m    896\u001b[0m       \u001b[0mnew_tracing_count\u001b[0m \u001b[0;34m=\u001b[0m \u001b[0mself\u001b[0m\u001b[0;34m.\u001b[0m\u001b[0mexperimental_get_tracing_count\u001b[0m\u001b[0;34m(\u001b[0m\u001b[0;34m)\u001b[0m\u001b[0;34m\u001b[0m\u001b[0;34m\u001b[0m\u001b[0m\n",
            "\u001b[0;32m/usr/local/lib/python3.10/dist-packages/tensorflow/python/eager/polymorphic_function/polymorphic_function.py\u001b[0m in \u001b[0;36m_call\u001b[0;34m(self, *args, **kwds)\u001b[0m\n\u001b[1;32m    924\u001b[0m       \u001b[0;31m# In this case we have created variables on the first call, so we run the\u001b[0m\u001b[0;34m\u001b[0m\u001b[0;34m\u001b[0m\u001b[0m\n\u001b[1;32m    925\u001b[0m       \u001b[0;31m# defunned version which is guaranteed to never create variables.\u001b[0m\u001b[0;34m\u001b[0m\u001b[0;34m\u001b[0m\u001b[0m\n\u001b[0;32m--> 926\u001b[0;31m       \u001b[0;32mreturn\u001b[0m \u001b[0mself\u001b[0m\u001b[0;34m.\u001b[0m\u001b[0m_no_variable_creation_fn\u001b[0m\u001b[0;34m(\u001b[0m\u001b[0;34m*\u001b[0m\u001b[0margs\u001b[0m\u001b[0;34m,\u001b[0m \u001b[0;34m**\u001b[0m\u001b[0mkwds\u001b[0m\u001b[0;34m)\u001b[0m  \u001b[0;31m# pylint: disable=not-callable\u001b[0m\u001b[0;34m\u001b[0m\u001b[0;34m\u001b[0m\u001b[0m\n\u001b[0m\u001b[1;32m    927\u001b[0m     \u001b[0;32melif\u001b[0m \u001b[0mself\u001b[0m\u001b[0;34m.\u001b[0m\u001b[0m_variable_creation_fn\u001b[0m \u001b[0;32mis\u001b[0m \u001b[0;32mnot\u001b[0m \u001b[0;32mNone\u001b[0m\u001b[0;34m:\u001b[0m\u001b[0;34m\u001b[0m\u001b[0;34m\u001b[0m\u001b[0m\n\u001b[1;32m    928\u001b[0m       \u001b[0;31m# Release the lock early so that multiple threads can perform the call\u001b[0m\u001b[0;34m\u001b[0m\u001b[0;34m\u001b[0m\u001b[0m\n",
            "\u001b[0;32m/usr/local/lib/python3.10/dist-packages/tensorflow/python/eager/polymorphic_function/tracing_compiler.py\u001b[0m in \u001b[0;36m__call__\u001b[0;34m(self, *args, **kwargs)\u001b[0m\n\u001b[1;32m    140\u001b[0m     \u001b[0;32mwith\u001b[0m \u001b[0mself\u001b[0m\u001b[0;34m.\u001b[0m\u001b[0m_lock\u001b[0m\u001b[0;34m:\u001b[0m\u001b[0;34m\u001b[0m\u001b[0;34m\u001b[0m\u001b[0m\n\u001b[1;32m    141\u001b[0m       (concrete_function,\n\u001b[0;32m--> 142\u001b[0;31m        filtered_flat_args) = self._maybe_define_function(args, kwargs)\n\u001b[0m\u001b[1;32m    143\u001b[0m     return concrete_function._call_flat(\n\u001b[1;32m    144\u001b[0m         filtered_flat_args, captured_inputs=concrete_function.captured_inputs)  # pylint: disable=protected-access\n",
            "\u001b[0;32m/usr/local/lib/python3.10/dist-packages/tensorflow/python/eager/polymorphic_function/tracing_compiler.py\u001b[0m in \u001b[0;36m_maybe_define_function\u001b[0;34m(self, args, kwargs)\u001b[0m\n\u001b[1;32m    354\u001b[0m     \u001b[0;31m# only active captures should be saved.\u001b[0m\u001b[0;34m\u001b[0m\u001b[0;34m\u001b[0m\u001b[0m\n\u001b[1;32m    355\u001b[0m     lookup_func_type, lookup_func_context = (\n\u001b[0;32m--> 356\u001b[0;31m         self._function_spec.make_canonicalized_monomorphic_type(\n\u001b[0m\u001b[1;32m    357\u001b[0m             args, kwargs, captures))\n\u001b[1;32m    358\u001b[0m     concrete_function = self._function_cache.lookup(current_func_context,\n",
            "\u001b[0;32m/usr/local/lib/python3.10/dist-packages/tensorflow/python/eager/polymorphic_function/function_spec.py\u001b[0m in \u001b[0;36mmake_canonicalized_monomorphic_type\u001b[0;34m(self, args, kwargs, captures)\u001b[0m\n\u001b[1;32m    343\u001b[0m \u001b[0;34m\u001b[0m\u001b[0m\n\u001b[1;32m    344\u001b[0m     _, function_type, type_context = (\n\u001b[0;32m--> 345\u001b[0;31m         function_type_lib.canonicalize_to_monomorphic(\n\u001b[0m\u001b[1;32m    346\u001b[0m             \u001b[0margs\u001b[0m\u001b[0;34m,\u001b[0m \u001b[0mkwargs\u001b[0m\u001b[0;34m,\u001b[0m \u001b[0mself\u001b[0m\u001b[0;34m.\u001b[0m\u001b[0mdefault_values\u001b[0m\u001b[0;34m,\u001b[0m \u001b[0mcaptures\u001b[0m\u001b[0;34m,\u001b[0m \u001b[0mself\u001b[0m\u001b[0;34m.\u001b[0m\u001b[0mfunction_type\u001b[0m\u001b[0;34m\u001b[0m\u001b[0;34m\u001b[0m\u001b[0m\n\u001b[1;32m    347\u001b[0m         )\n",
            "\u001b[0;32m/usr/local/lib/python3.10/dist-packages/tensorflow/core/function/polymorphism/function_type.py\u001b[0m in \u001b[0;36mcanonicalize_to_monomorphic\u001b[0;34m(args, kwargs, default_values, captures, polymorphic_type)\u001b[0m\n\u001b[1;32m    417\u001b[0m     \u001b[0;32melse\u001b[0m\u001b[0;34m:\u001b[0m\u001b[0;34m\u001b[0m\u001b[0;34m\u001b[0m\u001b[0m\n\u001b[1;32m    418\u001b[0m       parameters.append(\n\u001b[0;32m--> 419\u001b[0;31m           _make_validated_mono_param(name, arg, poly_parameter.kind,\n\u001b[0m\u001b[1;32m    420\u001b[0m                                      \u001b[0mtype_context\u001b[0m\u001b[0;34m,\u001b[0m\u001b[0;34m\u001b[0m\u001b[0;34m\u001b[0m\u001b[0m\n\u001b[1;32m    421\u001b[0m                                      poly_parameter.type_constraint))\n",
            "\u001b[0;32m/usr/local/lib/python3.10/dist-packages/tensorflow/core/function/polymorphism/function_type.py\u001b[0m in \u001b[0;36m_make_validated_mono_param\u001b[0;34m(name, value, kind, type_context, poly_type)\u001b[0m\n\u001b[1;32m    357\u001b[0m \u001b[0;32mdef\u001b[0m \u001b[0m_make_validated_mono_param\u001b[0m\u001b[0;34m(\u001b[0m\u001b[0mname\u001b[0m\u001b[0;34m,\u001b[0m \u001b[0mvalue\u001b[0m\u001b[0;34m,\u001b[0m \u001b[0mkind\u001b[0m\u001b[0;34m,\u001b[0m \u001b[0mtype_context\u001b[0m\u001b[0;34m,\u001b[0m \u001b[0mpoly_type\u001b[0m\u001b[0;34m)\u001b[0m\u001b[0;34m:\u001b[0m\u001b[0;34m\u001b[0m\u001b[0;34m\u001b[0m\u001b[0m\n\u001b[1;32m    358\u001b[0m   \u001b[0;34m\"\"\"Generates and validates a parameter for Monomorphic FunctionType.\"\"\"\u001b[0m\u001b[0;34m\u001b[0m\u001b[0;34m\u001b[0m\u001b[0m\n\u001b[0;32m--> 359\u001b[0;31m   \u001b[0mmono_type\u001b[0m \u001b[0;34m=\u001b[0m \u001b[0mtrace_type\u001b[0m\u001b[0;34m.\u001b[0m\u001b[0mfrom_value\u001b[0m\u001b[0;34m(\u001b[0m\u001b[0mvalue\u001b[0m\u001b[0;34m,\u001b[0m \u001b[0mtype_context\u001b[0m\u001b[0;34m)\u001b[0m\u001b[0;34m\u001b[0m\u001b[0;34m\u001b[0m\u001b[0m\n\u001b[0m\u001b[1;32m    360\u001b[0m \u001b[0;34m\u001b[0m\u001b[0m\n\u001b[1;32m    361\u001b[0m   \u001b[0;32mif\u001b[0m \u001b[0mpoly_type\u001b[0m \u001b[0;32mand\u001b[0m \u001b[0;32mnot\u001b[0m \u001b[0mmono_type\u001b[0m\u001b[0;34m.\u001b[0m\u001b[0mis_subtype_of\u001b[0m\u001b[0;34m(\u001b[0m\u001b[0mpoly_type\u001b[0m\u001b[0;34m)\u001b[0m\u001b[0;34m:\u001b[0m\u001b[0;34m\u001b[0m\u001b[0;34m\u001b[0m\u001b[0m\n",
            "\u001b[0;32m/usr/local/lib/python3.10/dist-packages/tensorflow/core/function/trace_type/trace_type_builder.py\u001b[0m in \u001b[0;36mfrom_value\u001b[0;34m(value, context)\u001b[0m\n\u001b[1;32m    174\u001b[0m   \u001b[0;32mif\u001b[0m \u001b[0mcontext\u001b[0m\u001b[0;34m.\u001b[0m\u001b[0mis_legacy_signature\u001b[0m \u001b[0;32mand\u001b[0m \u001b[0misinstance\u001b[0m\u001b[0;34m(\u001b[0m\u001b[0mvalue\u001b[0m\u001b[0;34m,\u001b[0m \u001b[0mtrace\u001b[0m\u001b[0;34m.\u001b[0m\u001b[0mTraceType\u001b[0m\u001b[0;34m)\u001b[0m\u001b[0;34m:\u001b[0m\u001b[0;34m\u001b[0m\u001b[0;34m\u001b[0m\u001b[0m\n\u001b[1;32m    175\u001b[0m     \u001b[0;32mreturn\u001b[0m \u001b[0mvalue\u001b[0m\u001b[0;34m\u001b[0m\u001b[0;34m\u001b[0m\u001b[0m\n\u001b[0;32m--> 176\u001b[0;31m   \u001b[0;32melif\u001b[0m \u001b[0misinstance\u001b[0m\u001b[0;34m(\u001b[0m\u001b[0mvalue\u001b[0m\u001b[0;34m,\u001b[0m \u001b[0mtrace\u001b[0m\u001b[0;34m.\u001b[0m\u001b[0mSupportsTracingProtocol\u001b[0m\u001b[0;34m)\u001b[0m\u001b[0;34m:\u001b[0m\u001b[0;34m\u001b[0m\u001b[0;34m\u001b[0m\u001b[0m\n\u001b[0m\u001b[1;32m    177\u001b[0m     \u001b[0mgenerated_type\u001b[0m \u001b[0;34m=\u001b[0m \u001b[0mvalue\u001b[0m\u001b[0;34m.\u001b[0m\u001b[0m__tf_tracing_type__\u001b[0m\u001b[0;34m(\u001b[0m\u001b[0mcontext\u001b[0m\u001b[0;34m)\u001b[0m\u001b[0;34m\u001b[0m\u001b[0;34m\u001b[0m\u001b[0m\n\u001b[1;32m    178\u001b[0m     \u001b[0;32mif\u001b[0m \u001b[0;32mnot\u001b[0m \u001b[0misinstance\u001b[0m\u001b[0;34m(\u001b[0m\u001b[0mgenerated_type\u001b[0m\u001b[0;34m,\u001b[0m \u001b[0mtrace\u001b[0m\u001b[0;34m.\u001b[0m\u001b[0mTraceType\u001b[0m\u001b[0;34m)\u001b[0m\u001b[0;34m:\u001b[0m\u001b[0;34m\u001b[0m\u001b[0;34m\u001b[0m\u001b[0m\n",
            "\u001b[0;32m/usr/local/lib/python3.10/dist-packages/typing_extensions.py\u001b[0m in \u001b[0;36m__instancecheck__\u001b[0;34m(cls, instance)\u001b[0m\n\u001b[1;32m    594\u001b[0m             \u001b[0;31m# We need this method for situations where attributes are\u001b[0m\u001b[0;34m\u001b[0m\u001b[0;34m\u001b[0m\u001b[0m\n\u001b[1;32m    595\u001b[0m             \u001b[0;31m# assigned in __init__.\u001b[0m\u001b[0;34m\u001b[0m\u001b[0;34m\u001b[0m\u001b[0m\n\u001b[0;32m--> 596\u001b[0;31m             \u001b[0;32mif\u001b[0m \u001b[0;32mnot\u001b[0m \u001b[0mgetattr\u001b[0m\u001b[0;34m(\u001b[0m\u001b[0mcls\u001b[0m\u001b[0;34m,\u001b[0m \u001b[0;34m\"_is_protocol\"\u001b[0m\u001b[0;34m,\u001b[0m \u001b[0;32mFalse\u001b[0m\u001b[0;34m)\u001b[0m\u001b[0;34m:\u001b[0m\u001b[0;34m\u001b[0m\u001b[0;34m\u001b[0m\u001b[0m\n\u001b[0m\u001b[1;32m    597\u001b[0m                 \u001b[0;31m# i.e., it's a concrete subclass of a protocol\u001b[0m\u001b[0;34m\u001b[0m\u001b[0;34m\u001b[0m\u001b[0m\n\u001b[1;32m    598\u001b[0m                 \u001b[0;32mreturn\u001b[0m \u001b[0msuper\u001b[0m\u001b[0;34m(\u001b[0m\u001b[0;34m)\u001b[0m\u001b[0;34m.\u001b[0m\u001b[0m__instancecheck__\u001b[0m\u001b[0;34m(\u001b[0m\u001b[0minstance\u001b[0m\u001b[0;34m)\u001b[0m\u001b[0;34m\u001b[0m\u001b[0;34m\u001b[0m\u001b[0m\n",
            "\u001b[0;31mKeyboardInterrupt\u001b[0m: "
          ]
        }
      ],
      "source": [
        "epochs = 4000\n",
        "obs_name = 'obs1'\n",
        "vicinity = 'v1'\n",
        "\n",
        "models_path = '/content/gdrive/MyDrive/SST_DATA/DDR_SECOND_ORDER/models/'\n",
        "save_file_path = models_path+'trained_model_'+obs_name +'_'+vicinity+'_'+str(samples)+'_samples_'+str(epochs)+'_epochs.h5'\n",
        "\n",
        "# Save the best model only wrt validation loss\n",
        "model_checkpoint_callback = tf.keras.callbacks.ModelCheckpoint(\n",
        "    filepath=save_file_path,\n",
        "    monitor='val_loss',\n",
        "    mode='min',\n",
        "    save_best_only=True)\n",
        "\n",
        "\n",
        "# Loss and Optimizer\n",
        "mlp.compile(#loss=tf.keras.losses.MeanAbsoluteError(),\n",
        "      loss=tf.keras.losses.MeanSquaredError(),\n",
        "\t\t\toptimizer=tf.keras.optimizers.Adam(learning_rate=0.001)\n",
        "\t \t\t#optimizer=tf.keras.optimizers.Adagrad(learning_rate=0.0005)\n",
        "\t\t\t#optimizer=tf.keras.optimizers.Adagrad(learning_rate=0.0005)\n",
        "\t\t\t#,metrics=['accuracy']\n",
        "\t\t\t)\n",
        "\n",
        "\n",
        "# Training\n",
        "history = mlp.fit(x = train_input,\n",
        "\t\t\t\t\ty = train_targets,\n",
        "\t\t\t\t\tvalidation_data=(test_input, test_targets),\n",
        "\t\t\t\t\tbatch_size=128,\n",
        "\t\t\t\t\tepochs=epochs,\n",
        "\t\t\t\t\tvalidation_split=0.05,\n",
        "\t\t\t\t\tverbose=2,\n",
        "\t\t\t\t\tcallbacks=[model_checkpoint_callback]\n",
        ")"
      ]
    },
    {
      "cell_type": "code",
      "source": [
        "def plot_loss(history):\n",
        "  plt.plot(history.history['loss'], label='loss')\n",
        "  plt.plot(history.history['val_loss'], label='val_loss')\n",
        "  #plt.ylim([0, 10])\n",
        "  plt.xlabel('Epoch')\n",
        "  plt.ylabel('MSE')\n",
        "  plt.legend()\n",
        "  plt.grid(True)"
      ],
      "metadata": {
        "id": "Qsy7apsqrxnR"
      },
      "execution_count": null,
      "outputs": []
    },
    {
      "cell_type": "code",
      "source": [
        "plot_loss(history)"
      ],
      "metadata": {
        "colab": {
          "base_uri": "https://localhost:8080/",
          "height": 453
        },
        "id": "5-LbdHl_sQ6V",
        "outputId": "80bcd3c8-cfd8-4c20-9a6a-3bb3e94a1bb1"
      },
      "execution_count": null,
      "outputs": [
        {
          "output_type": "display_data",
          "data": {
            "text/plain": [
              "<Figure size 640x480 with 1 Axes>"
            ],
            "image/png": "[encoded data removed]"
          },
          "metadata": {}
        }
      ]
    },
    {
      "cell_type": "markdown",
      "metadata": {
        "id": "WGSGJi8Bthok"
      },
      "source": [
        "## Planificación"
      ]
    },
    {
      "cell_type": "markdown",
      "metadata": {
        "id": "-9MoFD8ttpIc"
      },
      "source": [
        "En caso de querer utilizar los modelos guardados"
      ]
    },
    {
      "cell_type": "code",
      "execution_count": null,
      "metadata": {
        "id": "3gFScUUFtf1t"
      },
      "outputs": [],
      "source": [
        "model_path = '/content/gdrive/MyDrive/SST_DATA/DDR_SECOND_ORDER/models/trained_model_obs1_v1_700_samples_4000_epochs.h5'\n",
        "mlp = keras.models.load_model(model_path)"
      ]
    },
    {
      "cell_type": "markdown",
      "metadata": {
        "id": "T5UZDHIxurhx"
      },
      "source": [
        "Inferencia haciendo uso de la red"
      ]
    },
    {
      "cell_type": "code",
      "source": [
        "X_test=test_input"
      ],
      "metadata": {
        "id": "QKD0SV12JYNc"
      },
      "execution_count": null,
      "outputs": []
    },
    {
      "cell_type": "code",
      "source": [
        "import copy\n",
        "\n",
        "# Outputs\n",
        "start= [3,5,7,7]\n",
        "last= [100,100,100,100]\n",
        "\n",
        "Path=[]\n",
        "\n",
        "while(np.linalg.norm(np.array([start[0],start[1]])-np.array([last[0],last[1]]))>=0.01):\n",
        "  new_controls = mlp.predict([start])[0]\n",
        "  print(new_controls)\n",
        "  last=copy.deepcopy(start)\n",
        "  start[0]=float(new_controls[0])\n",
        "  start[1]=float(new_controls[1])\n",
        "  print(start)\n",
        "  Path.append([start[0],start[1]])\n",
        "\n"
      ],
      "metadata": {
        "id": "kHl77cDtJ1de",
        "colab": {
          "base_uri": "https://localhost:8080/"
        },
        "outputId": "660bc3c9-98d8-4ff4-f948-6e1abb4edcc1"
      },
      "execution_count": null,
      "outputs": [
        {
          "output_type": "stream",
          "name": "stdout",
          "text": [
            "1/1 [==============================] - 0s 315ms/step\n",
            "[2.7417085 5.448443 ]\n",
            "[2.741708517074585, 5.4484429359436035, 7, 7]\n",
            "1/1 [==============================] - 1s 536ms/step\n",
            "[2.473161  5.8565016]\n",
            "[2.473160982131958, 5.856501579284668, 7, 7]\n",
            "1/1 [==============================] - 0s 64ms/step\n",
            "[2.4592152 6.2057867]\n",
            "[2.4592151641845703, 6.20578670501709, 7, 7]\n",
            "1/1 [==============================] - 0s 44ms/step\n",
            "[2.7981067 6.3994646]\n",
            "[2.7981066703796387, 6.3994646072387695, 7, 7]\n",
            "1/1 [==============================] - 0s 49ms/step\n",
            "[3.2737284 6.439761 ]\n",
            "[3.273728370666504, 6.439761161804199, 7, 7]\n",
            "1/1 [==============================] - 0s 37ms/step\n",
            "[3.6677413 6.3039503]\n",
            "[3.667741298675537, 6.303950309753418, 7, 7]\n",
            "1/1 [==============================] - 0s 46ms/step\n",
            "[3.9812417 6.179718 ]\n",
            "[3.9812417030334473, 6.179718017578125, 7, 7]\n",
            "1/1 [==============================] - 0s 41ms/step\n",
            "[4.425438  6.1212406]\n",
            "[4.425437927246094, 6.121240615844727, 7, 7]\n",
            "1/1 [==============================] - 0s 41ms/step\n",
            "[4.7742434 6.067225 ]\n",
            "[4.774243354797363, 6.067224979400635, 7, 7]\n",
            "1/1 [==============================] - 0s 39ms/step\n",
            "[5.1071634 5.9631977]\n",
            "[5.107163429260254, 5.963197708129883, 7, 7]\n",
            "1/1 [==============================] - 0s 43ms/step\n",
            "[5.498827  5.8023653]\n",
            "[5.49882698059082, 5.802365303039551, 7, 7]\n",
            "1/1 [==============================] - 0s 38ms/step\n",
            "[5.847564 5.789894]\n",
            "[5.847564220428467, 5.789894104003906, 7, 7]\n",
            "1/1 [==============================] - 0s 42ms/step\n",
            "[6.073141  5.9323583]\n",
            "[6.073141098022461, 5.932358264923096, 7, 7]\n",
            "1/1 [==============================] - 0s 38ms/step\n",
            "[6.2299094 6.084531 ]\n",
            "[6.229909420013428, 6.084530830383301, 7, 7]\n",
            "1/1 [==============================] - 0s 38ms/step\n",
            "[6.346484 6.211624]\n",
            "[6.346484184265137, 6.2116241455078125, 7, 7]\n",
            "1/1 [==============================] - 0s 49ms/step\n",
            "[6.43536  6.305051]\n",
            "[6.435359954833984, 6.305050849914551, 7, 7]\n",
            "1/1 [==============================] - 0s 43ms/step\n",
            "[6.5021687 6.3624086]\n",
            "[6.502168655395508, 6.362408638000488, 7, 7]\n",
            "1/1 [==============================] - 0s 48ms/step\n",
            "[6.550483  6.4017715]\n",
            "[6.550483226776123, 6.401771545410156, 7, 7]\n",
            "1/1 [==============================] - 0s 42ms/step\n",
            "[6.5851107 6.4296217]\n",
            "[6.585110664367676, 6.429621696472168, 7, 7]\n",
            "1/1 [==============================] - 0s 45ms/step\n",
            "[6.6077642 6.448362 ]\n",
            "[6.60776424407959, 6.448361873626709, 7, 7]\n",
            "1/1 [==============================] - 0s 38ms/step\n",
            "[6.6182733 6.45844  ]\n",
            "[6.6182732582092285, 6.458439826965332, 7, 7]\n",
            "1/1 [==============================] - 0s 38ms/step\n",
            "[6.6232524 6.463463 ]\n",
            "[6.6232523918151855, 6.463462829589844, 7, 7]\n"
          ]
        }
      ]
    },
    {
      "cell_type": "code",
      "source": [
        "fig, ax = plt.subplots()\n",
        "ax.set_xlim(liminf_X, limsup_X)\n",
        "ax.set_ylim(liminf_Y, limsup_Y)\n",
        "\n",
        "for i in range(len(obstacles)):\n",
        "  ax.add_patch(Rectangle(obstacles[i].pos, obstacles[i].width, obstacles[i].height,\n",
        "             facecolor = 'red',\n",
        "             fill=True))\n",
        "\n",
        "\n",
        "#circle_patch = Circle(x_init, radio_robot, facecolor='blue')\n",
        "#ax.add_patch(circle_patch)\n",
        "\n",
        "# Plotear los vértices\n",
        "#for v in V:\n",
        "#    x, y = v\n",
        "#    circle_patch = Circle((x, y), radio_robot, facecolor='green')\n",
        "#    ax.add_patch(circle_patch)\n",
        "    #plt.plot(x, y, 'ro', markersize=10)  # 'ro' representa círculos rojos\n",
        "\n",
        "# Plotear las aristas\n",
        "i=0\n",
        "#for u, v in E:\n",
        "    #print(i, end=' \\r')\n",
        "    #x1, y1 = u\n",
        "    #x2, y2 = v\n",
        "    #plt.plot([x1, x2], [y1, y2], 'b-')  # 'b-' representa líneas azules\n",
        "    #i+=1\n",
        "\n",
        "for v in Path:\n",
        "    x, y = v\n",
        "    circle_patch = Circle((x, y), radio_robot, facecolor='yellow')\n",
        "    ax.add_patch(circle_patch)\n",
        "    #plt.plot(x, y, 'ro', markersize=10)  # 'ro' representa círculos rojos\n",
        "\n",
        "\n",
        "\n",
        "ax.set_aspect('equal')\n",
        "\n",
        "plt.show()"
      ],
      "metadata": {
        "colab": {
          "base_uri": "https://localhost:8080/",
          "height": 435
        },
        "id": "aNdRHEbOTe3N",
        "outputId": "8e15633f-6fd1-4581-d7fc-5f7f1bd36beb"
      },
      "execution_count": null,
      "outputs": [
        {
          "output_type": "display_data",
          "data": {
            "text/plain": [
              "<Figure size 640x480 with 1 Axes>"
            ],
            "image/png": "[encoded data removed]"
          },
          "metadata": {}
        }
      ]
    },
    {
      "cell_type": "code",
      "source": [
        "print(Path)"
      ],
      "metadata": {
        "colab": {
          "base_uri": "https://localhost:8080/"
        },
        "id": "ogJ689ZIplQz",
        "outputId": "bbeaa7ef-66d3-4db7-ed18-d7acb7fe5010"
      },
      "execution_count": null,
      "outputs": [
        {
          "output_type": "stream",
          "name": "stdout",
          "text": [
            "[[2.532729387283325, 5.498368740081787], [2.336850643157959, 5.7180657386779785], [2.1793692111968994, 5.936888217926025], [2.3170182704925537, 6.288452625274658], [2.844977617263794, 6.531954288482666], [3.6062748432159424, 6.554252624511719], [4.359204292297363, 6.418210983276367], [4.868812561035156, 6.113880634307861], [5.4194746017456055, 5.815207481384277], [5.920828342437744, 5.811471939086914], [6.200841903686523, 5.886032581329346], [6.407277584075928, 5.9999189376831055], [6.560427665710449, 6.1017866134643555], [6.645362854003906, 6.149326801300049], [6.683510780334473, 6.167459964752197], [6.700484275817871, 6.173965930938721], [6.707923889160156, 6.176167964935303], [6.711103439331055, 6.176939964294434], [6.712441921234131, 6.177219390869141], [6.713000297546387, 6.177323341369629], [6.713231086730957, 6.177363395690918], [6.713326454162598, 6.1773786544799805], [6.71336555480957, 6.177384853363037], [6.713381767272949, 6.177387237548828], [6.713388442993164, 6.1773881912231445], [6.713391304016113, 6.1773881912231445], [6.71339225769043, 6.177388668060303], [6.713392734527588, 6.177388668060303], [6.713393211364746, 6.177389144897461], [6.713393211364746, 6.177389144897461]]\n"
          ]
        }
      ]
    },
    {
      "cell_type": "code",
      "source": [
        "fig, ax = plt.subplots()\n",
        "ax.set_xlim(liminf_X, limsup_X)\n",
        "ax.set_ylim(liminf_Y, limsup_Y)\n",
        "\n",
        "for i in range(len(obstacles)):\n",
        "  ax.add_patch(Rectangle(obstacles[i].pos, obstacles[i].width, obstacles[i].height,\n",
        "             facecolor = 'red',\n",
        "             fill=True))\n",
        "\n",
        "\n",
        "circle_patch = Circle((3,5), radio_robot, facecolor='red')\n",
        "ax.add_patch(circle_patch)\n",
        "\n",
        "\n",
        "circle_patch = Circle((start[2],start[3]), radio_robot, facecolor='green')\n",
        "ax.add_patch(circle_patch)\n",
        "\n",
        "\n",
        "\n",
        "# Plotear los vértices\n",
        "#for v in V:\n",
        "#    x, y = v\n",
        "#    circle_patch = Circle((x, y), radio_robot, facecolor='green')\n",
        "#    ax.add_patch(circle_patch)\n",
        "    #plt.plot(x, y, 'ro', markersize=10)  # 'ro' representa círculos rojos\n",
        "\n",
        "\n",
        "for v in Path:\n",
        "    x, y = v\n",
        "    circle_patch = Circle((x, y), radio_robot, facecolor='yellow')\n",
        "    ax.add_patch(circle_patch)\n",
        "    #plt.plot(x, y, 'ro', markersize=10)  # 'ro' representa círculos rojos\n",
        "\n",
        "\n",
        "\n",
        "ax.set_aspect('equal')\n",
        "\n",
        "plt.show()"
      ],
      "metadata": {
        "colab": {
          "base_uri": "https://localhost:8080/",
          "height": 435
        },
        "id": "ZLX2ZquvGYlp",
        "outputId": "8e327930-20ca-43a4-e12a-d0b2151408e0"
      },
      "execution_count": null,
      "outputs": [
        {
          "output_type": "display_data",
          "data": {
            "text/plain": [
              "<Figure size 640x480 with 1 Axes>"
            ],
            "image/png": "[encoded data removed]"
          },
          "metadata": {}
        }
      ]
    },
    {
      "cell_type": "markdown",
      "source": [
        "# Sklearn"
      ],
      "metadata": {
        "id": "UG0_8jMr3BuR"
      }
    },
    {
      "cell_type": "code",
      "source": [
        "from sklearn.neural_network import MLPRegressor"
      ],
      "metadata": {
        "id": "iFytQRi33sdf"
      },
      "execution_count": null,
      "outputs": []
    },
    {
      "cell_type": "code",
      "source": [
        "clf = MLPRegressor(hidden_layer_sizes=(128,64,32), solver=\"lbfgs\", max_iter=4000, alpha=0)\n",
        "clf.fit(X_train,Y_train)"
      ],
      "metadata": {
        "colab": {
          "base_uri": "https://localhost:8080/",
          "height": 216
        },
        "id": "1dEvi4nx3EfA",
        "outputId": "a4de017a-9d45-4b8d-e9db-d195e5b06f7b"
      },
      "execution_count": null,
      "outputs": [
        {
          "output_type": "stream",
          "name": "stderr",
          "text": [
            "/usr/local/lib/python3.10/dist-packages/sklearn/neural_network/_multilayer_perceptron.py:541: ConvergenceWarning: lbfgs failed to converge (status=1):\n",
            "STOP: TOTAL NO. of ITERATIONS REACHED LIMIT.\n",
            "\n",
            "Increase the number of iterations (max_iter) or scale the data as shown in:\n",
            "    https://scikit-learn.org/stable/modules/preprocessing.html\n",
            "  self.n_iter_ = _check_optimize_result(\"lbfgs\", opt_res, self.max_iter)\n"
          ]
        },
        {
          "output_type": "execute_result",
          "data": {
            "text/plain": [
              "MLPRegressor(alpha=0, hidden_layer_sizes=(128, 64, 32), max_iter=4000,\n",
              "             solver='lbfgs')"
            ],
            "text/html": [
              "<style>#sk-container-id-1 {color: black;background-color: white;}#sk-container-id-1 pre{padding: 0;}#sk-container-id-1 div.sk-toggleable {background-color: white;}#sk-container-id-1 label.sk-toggleable__label {cursor: pointer;display: block;width: 100%;margin-bottom: 0;padding: 0.3em;box-sizing: border-box;text-align: center;}#sk-container-id-1 label.sk-toggleable__label-arrow:before {content: \"▸\";float: left;margin-right: 0.25em;color: #696969;}#sk-container-id-1 label.sk-toggleable__label-arrow:hover:before {color: black;}#sk-container-id-1 div.sk-estimator:hover label.sk-toggleable__label-arrow:before {color: black;}#sk-container-id-1 div.sk-toggleable__content {max-height: 0;max-width: 0;overflow: hidden;text-align: left;background-color: #f0f8ff;}#sk-container-id-1 div.sk-toggleable__content pre {margin: 0.2em;color: black;border-radius: 0.25em;background-color: #f0f8ff;}#sk-container-id-1 input.sk-toggleable__control:checked~div.sk-toggleable__content {max-height: 200px;max-width: 100%;overflow: auto;}#sk-container-id-1 input.sk-toggleable__control:checked~label.sk-toggleable__label-arrow:before {content: \"▾\";}#sk-container-id-1 div.sk-estimator input.sk-toggleable__control:checked~label.sk-toggleable__label {background-color: #d4ebff;}#sk-container-id-1 div.sk-label input.sk-toggleable__control:checked~label.sk-toggleable__label {background-color: #d4ebff;}#sk-container-id-1 input.sk-hidden--visually {border: 0;clip: rect(1px 1px 1px 1px);clip: rect(1px, 1px, 1px, 1px);height: 1px;margin: -1px;overflow: hidden;padding: 0;position: absolute;width: 1px;}#sk-container-id-1 div.sk-estimator {font-family: monospace;background-color: #f0f8ff;border: 1px dotted black;border-radius: 0.25em;box-sizing: border-box;margin-bottom: 0.5em;}#sk-container-id-1 div.sk-estimator:hover {background-color: #d4ebff;}#sk-container-id-1 div.sk-parallel-item::after {content: \"\";width: 100%;border-bottom: 1px solid gray;flex-grow: 1;}#sk-container-id-1 div.sk-label:hover label.sk-toggleable__label {background-color: #d4ebff;}#sk-container-id-1 div.sk-serial::before {content: \"\";position: absolute;border-left: 1px solid gray;box-sizing: border-box;top: 0;bottom: 0;left: 50%;z-index: 0;}#sk-container-id-1 div.sk-serial {display: flex;flex-direction: column;align-items: center;background-color: white;padding-right: 0.2em;padding-left: 0.2em;position: relative;}#sk-container-id-1 div.sk-item {position: relative;z-index: 1;}#sk-container-id-1 div.sk-parallel {display: flex;align-items: stretch;justify-content: center;background-color: white;position: relative;}#sk-container-id-1 div.sk-item::before, #sk-container-id-1 div.sk-parallel-item::before {content: \"\";position: absolute;border-left: 1px solid gray;box-sizing: border-box;top: 0;bottom: 0;left: 50%;z-index: -1;}#sk-container-id-1 div.sk-parallel-item {display: flex;flex-direction: column;z-index: 1;position: relative;background-color: white;}#sk-container-id-1 div.sk-parallel-item:first-child::after {align-self: flex-end;width: 50%;}#sk-container-id-1 div.sk-parallel-item:last-child::after {align-self: flex-start;width: 50%;}#sk-container-id-1 div.sk-parallel-item:only-child::after {width: 0;}#sk-container-id-1 div.sk-dashed-wrapped {border: 1px dashed gray;margin: 0 0.4em 0.5em 0.4em;box-sizing: border-box;padding-bottom: 0.4em;background-color: white;}#sk-container-id-1 div.sk-label label {font-family: monospace;font-weight: bold;display: inline-block;line-height: 1.2em;}#sk-container-id-1 div.sk-label-container {text-align: center;}#sk-container-id-1 div.sk-container {/* jupyter's `normalize.less` sets `[hidden] { display: none; }` but bootstrap.min.css set `[hidden] { display: none !important; }` so we also need the `!important` here to be able to override the default hidden behavior on the sphinx rendered scikit-learn.org. See: https://github.com/scikit-learn/scikit-learn/issues/21755 */display: inline-block !important;position: relative;}#sk-container-id-1 div.sk-text-repr-fallback {display: none;}</style><div id=\"sk-container-id-1\" class=\"sk-top-container\"><div class=\"sk-text-repr-fallback\"><pre>MLPRegressor(alpha=0, hidden_layer_sizes=(128, 64, 32), max_iter=4000,\n",
              "             solver=&#x27;lbfgs&#x27;)</pre><b>In a Jupyter environment, please rerun this cell to show the HTML representation or trust the notebook. <br />On GitHub, the HTML representation is unable to render, please try loading this page with nbviewer.org.</b></div><div class=\"sk-container\" hidden><div class=\"sk-item\"><div class=\"sk-estimator sk-toggleable\"><input class=\"sk-toggleable__control sk-hidden--visually\" id=\"sk-estimator-id-1\" type=\"checkbox\" checked><label for=\"sk-estimator-id-1\" class=\"sk-toggleable__label sk-toggleable__label-arrow\">MLPRegressor</label><div class=\"sk-toggleable__content\"><pre>MLPRegressor(alpha=0, hidden_layer_sizes=(128, 64, 32), max_iter=4000,\n",
              "             solver=&#x27;lbfgs&#x27;)</pre></div></div></div></div></div>"
            ]
          },
          "metadata": {},
          "execution_count": 79
        }
      ]
    },
    {
      "cell_type": "code",
      "source": [
        "import copy\n",
        "\n",
        "# Outputs\n",
        "start= [3,5,7,7]\n",
        "last= [100,100,100,100]\n",
        "\n",
        "Path=[]\n",
        "\n",
        "while(np.linalg.norm(np.array([start[0],start[1]])-np.array([last[0],last[1]]))>0.0000001):\n",
        "  new_controls = clf.predict([start])[0]\n",
        "  print(new_controls)\n",
        "  last=copy.deepcopy(start)\n",
        "  start[0]=float(new_controls[0])\n",
        "  start[1]=float(new_controls[1])\n",
        "  print(start)\n",
        "  Path.append([start[0],start[1]])\n",
        "\n"
      ],
      "metadata": {
        "colab": {
          "base_uri": "https://localhost:8080/"
        },
        "id": "498rLub134nH",
        "outputId": "5ee812cb-62b4-423b-e898-73cf848a9559"
      },
      "execution_count": null,
      "outputs": [
        {
          "output_type": "stream",
          "name": "stdout",
          "text": [
            "[2.55456037 5.28868658]\n",
            "[2.554560369982729, 5.288686578781919, 7, 7]\n",
            "[2.10237731 5.67445934]\n",
            "[2.102377307567118, 5.674459341075481, 7, 7]\n",
            "[1.8064083  6.17073163]\n",
            "[1.806408295763143, 6.17073163333216, 7, 7]\n",
            "[1.85752078 6.5853994 ]\n",
            "[1.857520779604744, 6.585399400541133, 7, 7]\n",
            "[2.41723605 6.65718912]\n",
            "[2.417236052462887, 6.657189115213372, 7, 7]\n",
            "[3.03242868 6.63711615]\n",
            "[3.03242867647862, 6.637116154075114, 7, 7]\n",
            "[3.58355527 6.58084629]\n",
            "[3.5835552690231998, 6.580846289074538, 7, 7]\n",
            "[4.04720968 6.54464946]\n",
            "[4.047209679939185, 6.54464946032274, 7, 7]\n",
            "[4.47877723 6.48917668]\n",
            "[4.478777231042207, 6.489176680613806, 7, 7]\n",
            "[4.86032423 6.31455554]\n",
            "[4.860324230209716, 6.314555536046695, 7, 7]\n",
            "[5.20933421 6.19482323]\n",
            "[5.209334205662569, 6.194823233941847, 7, 7]\n",
            "[5.53126566 6.04541149]\n",
            "[5.531265660924569, 6.045411485375354, 7, 7]\n",
            "[5.81697687 6.03020558]\n",
            "[5.816976868916479, 6.03020558151818, 7, 7]\n",
            "[6.05237649 6.0102217 ]\n",
            "[6.0523764910179985, 6.010221704259807, 7, 7]\n",
            "[6.26158697 6.07501045]\n",
            "[6.261586972488611, 6.075010445189513, 7, 7]\n",
            "[6.46339315 6.18608457]\n",
            "[6.463393151556027, 6.186084566757833, 7, 7]\n",
            "[6.69160967 6.40316829]\n",
            "[6.691609672232896, 6.403168293047871, 7, 7]\n",
            "[6.94720594 6.77005446]\n",
            "[6.947205935409147, 6.770054459829867, 7, 7]\n",
            "[7.02468987 6.88524397]\n",
            "[7.024689867738135, 6.8852439703362, 7, 7]\n",
            "[7.03660769 6.88055471]\n",
            "[7.036607694971897, 6.880554711636355, 7, 7]\n",
            "[7.04214747 6.88237433]\n",
            "[7.04214746511847, 6.8823743327506595, 7, 7]\n",
            "[7.04444109 6.8823984 ]\n",
            "[7.044441089742027, 6.882398395143591, 7, 7]\n",
            "[7.04556652 6.88243764]\n",
            "[7.045566515138307, 6.882437643141456, 7, 7]\n",
            "[7.04611212 6.8824558 ]\n",
            "[7.046112119193567, 6.882455799275725, 7, 7]\n",
            "[7.04637684 6.88246464]\n",
            "[7.046376836988853, 6.88246463631819, 7, 7]\n",
            "[7.04650527 6.88246892]\n",
            "[7.046505266806459, 6.882468922776537, 7, 7]\n",
            "[7.04656758 6.882471  ]\n",
            "[7.046567575709373, 6.882471002419948, 7, 7]\n",
            "[7.04659781 6.88247201]\n",
            "[7.046597805437645, 6.882472011376841, 7, 7]\n",
            "[7.04661247 6.8824725 ]\n",
            "[7.04661247166419, 6.882472500881457, 7, 7]\n",
            "[7.04661959 6.88247274]\n",
            "[7.046619587116856, 6.8824727383690565, 7, 7]\n",
            "[7.04662304 6.88247285]\n",
            "[7.046623039243178, 6.882472853588309, 7, 7]\n",
            "[7.04662471 6.88247291]\n",
            "[7.0466247140735385, 6.882472909487975, 7, 7]\n",
            "[7.04662553 6.88247294]\n",
            "[7.04662552663266, 6.882472936608206, 7, 7]\n",
            "[7.04662592 6.88247295]\n",
            "[7.04662592085308, 6.882472949765836, 7, 7]\n",
            "[7.04662611 6.88247296]\n",
            "[7.046626112112684, 6.882472956149371, 7, 7]\n",
            "[7.0466262  6.88247296]\n",
            "[7.046626204904016, 6.882472959246405, 7, 7]\n"
          ]
        }
      ]
    },
    {
      "cell_type": "code",
      "source": [
        "fig, ax = plt.subplots()\n",
        "ax.set_xlim(liminf_X, limsup_X)\n",
        "ax.set_ylim(liminf_Y, limsup_Y)\n",
        "\n",
        "for i in range(len(obstacles)):\n",
        "  ax.add_patch(Rectangle(obstacles[i].pos, obstacles[i].width, obstacles[i].height,\n",
        "             facecolor = 'red',\n",
        "             fill=True))\n",
        "\n",
        "\n",
        "circle_patch = Circle((3,5), radio_robot, facecolor='red')\n",
        "ax.add_patch(circle_patch)\n",
        "\n",
        "\n",
        "circle_patch = Circle((start[2],start[3]), radio_robot, facecolor='green')\n",
        "ax.add_patch(circle_patch)\n",
        "\n",
        "\n",
        "\n",
        "# Plotear los vértices\n",
        "#for v in V:\n",
        "#    x, y = v\n",
        "#    circle_patch = Circle((x, y), radio_robot, facecolor='green')\n",
        "#    ax.add_patch(circle_patch)\n",
        "    #plt.plot(x, y, 'ro', markersize=10)  # 'ro' representa círculos rojos\n",
        "\n",
        "\n",
        "for v in Path:\n",
        "    x, y = v\n",
        "    circle_patch = Circle((x, y), radio_robot, facecolor='yellow')\n",
        "    ax.add_patch(circle_patch)\n",
        "    #plt.plot(x, y, 'ro', markersize=10)  # 'ro' representa círculos rojos\n",
        "\n",
        "\n",
        "\n",
        "ax.set_aspect('equal')\n",
        "\n",
        "plt.show()"
      ],
      "metadata": {
        "id": "PEcQjI6A7cbD",
        "outputId": "de8be7eb-ffdc-4ffc-c31d-308e4433d9da",
        "colab": {
          "base_uri": "https://localhost:8080/",
          "height": 435
        }
      },
      "execution_count": null,
      "outputs": [
        {
          "output_type": "display_data",
          "data": {
            "text/plain": [
              "<Figure size 640x480 with 1 Axes>"
            ],
            "image/png": "[encoded data removed]"
          },
          "metadata": {}
        }
      ]
    },
    {
      "cell_type": "markdown",
      "source": [
        "# Comparacion"
      ],
      "metadata": {
        "id": "rj_Mqi42fJV2"
      }
    },
    {
      "cell_type": "code",
      "source": [
        "# Leer los datos del archivo de texto\n",
        "arreglos_leidos = np.loadtxt('Puntos_aleatorios_Neurona.txt')\n",
        "\n",
        "Puntos_Prueba=[]\n",
        "\n",
        "# Imprimir los arreglos leídos\n",
        "print(\"Arreglos leídos del archivo:\")\n",
        "for arreglo in arreglos_leidos:\n",
        "    Puntos_Prueba.append(arreglo)\n",
        "    #print(arreglo)\n",
        "\n"
      ],
      "metadata": {
        "colab": {
          "base_uri": "https://localhost:8080/"
        },
        "id": "oQholE_FsQi_",
        "outputId": "c2de4fb6-55df-4f4b-b20b-03222bb19cc2"
      },
      "execution_count": null,
      "outputs": [
        {
          "output_type": "stream",
          "name": "stdout",
          "text": [
            "Arreglos leídos del archivo:\n"
          ]
        }
      ]
    },
    {
      "cell_type": "markdown",
      "source": [
        "Con drop out"
      ],
      "metadata": {
        "id": "dndLbkEUiVi4"
      }
    },
    {
      "cell_type": "code",
      "source": [
        "model_path = '/content/gdrive/MyDrive/SST_DATA/DDR_SECOND_ORDER/models/trained_model_obs1_v1_800_samples_4000_epochs.h5'\n",
        "mlp = keras.models.load_model(model_path)"
      ],
      "metadata": {
        "id": "0qAIGz--iWaV"
      },
      "execution_count": null,
      "outputs": []
    },
    {
      "cell_type": "code",
      "source": [
        "import time\n",
        "\n",
        "Dropout_STATS=[]\n",
        "dropout_succes=100\n",
        "i=0\n",
        "for punto in Puntos_Prueba:\n",
        "  # Outputs\n",
        "  start= []\n",
        "  start.append(float(punto[0]))\n",
        "  start.append(float(punto[1]))\n",
        "  start.append(float(punto[2]))\n",
        "  start.append(float(punto[3]))\n",
        "  #print(punto)\n",
        "  last= [100,100,100,100]\n",
        "  flag=1\n",
        "\n",
        "  Path=[]\n",
        "  dist=0\n",
        "\n",
        "  inicio = time.time()  # Obtiene el tiempo actual en segundos desde la época (Unix timestamp)\n",
        "\n",
        "  iter=0\n",
        "  while(np.linalg.norm(np.array([start[0],start[1]])-np.array([start[2],start[3]]))>=0.75 and iter<50):\n",
        "    new_controls =  mlp.predict([start], verbose=0)[0]\n",
        "    #print(new_controls)\n",
        "    last=copy.deepcopy(start)\n",
        "    start[0]=float(new_controls[0])\n",
        "    start[1]=float(new_controls[1])\n",
        "    #print(start)\n",
        "    Path.append([start[0],start[1]])\n",
        "    dist+=distancia_euclidiana(np.array([start[0],start[1]]),np.array([last[0],last[1]]))\n",
        "    iter+=1\n",
        "\n",
        "  fin = time.time()  # Obtiene el tiempo actual nuevamente\n",
        "\n",
        "\n",
        "  if(iter>=50):\n",
        "    dropout_succes=dropout_succes-1\n",
        "    flag=0\n",
        "  else:\n",
        "    for k in range(len(Path)-1):\n",
        "      if (collisionFree(Path[k][0], Path[k][1], Path[k+1][0], Path[k+1][1] ,radio_robot)==False):\n",
        "        dropout_succes=dropout_succes-1\n",
        "        flag=0\n",
        "        break\n",
        "\n",
        "  tiempo_transcurrido = fin - inicio\n",
        "\n",
        "  Dropout_STATS.append([flag,dist,tiempo_transcurrido])\n",
        "  print(i)\n",
        "  i+=1\n",
        "\n",
        "print(\"Trayectorias con exito: \",dropout_succes)"
      ],
      "metadata": {
        "colab": {
          "base_uri": "https://localhost:8080/"
        },
        "id": "_QtEUIJQnPfN",
        "outputId": "8576bbe4-40a6-4dd0-9088-b9f56d370b3c"
      },
      "execution_count": null,
      "outputs": [
        {
          "output_type": "stream",
          "name": "stdout",
          "text": [
            "0\n",
            "1\n",
            "2\n",
            "3\n",
            "4\n",
            "5\n",
            "6\n",
            "7\n",
            "8\n",
            "9\n",
            "10\n",
            "11\n",
            "12\n",
            "13\n",
            "14\n",
            "15\n",
            "16\n",
            "17\n",
            "18\n",
            "19\n",
            "20\n",
            "21\n",
            "22\n",
            "23\n",
            "24\n",
            "25\n",
            "26\n",
            "27\n",
            "28\n",
            "29\n",
            "30\n",
            "31\n",
            "32\n",
            "33\n",
            "34\n",
            "35\n",
            "36\n",
            "37\n",
            "38\n",
            "39\n",
            "40\n",
            "41\n",
            "42\n",
            "43\n",
            "44\n",
            "45\n",
            "46\n",
            "47\n",
            "48\n",
            "49\n",
            "50\n",
            "51\n",
            "52\n",
            "53\n",
            "54\n",
            "55\n",
            "56\n",
            "57\n",
            "58\n",
            "59\n",
            "60\n",
            "61\n",
            "62\n",
            "63\n",
            "64\n",
            "65\n",
            "66\n",
            "67\n",
            "68\n",
            "69\n",
            "70\n",
            "71\n",
            "72\n",
            "73\n",
            "74\n",
            "75\n",
            "76\n",
            "77\n",
            "78\n",
            "79\n",
            "80\n",
            "81\n",
            "82\n",
            "83\n",
            "84\n",
            "85\n",
            "86\n",
            "87\n",
            "88\n",
            "89\n",
            "90\n",
            "91\n",
            "92\n",
            "93\n",
            "94\n",
            "95\n",
            "96\n",
            "97\n",
            "98\n",
            "99\n",
            "Trayectorias con exito:  24\n"
          ]
        }
      ]
    },
    {
      "cell_type": "code",
      "source": [
        "fig, ax = plt.subplots()\n",
        "ax.set_xlim(liminf_X, limsup_X)\n",
        "ax.set_ylim(liminf_Y, limsup_Y)\n",
        "\n",
        "for i in range(len(obstacles)):\n",
        "  ax.add_patch(Rectangle(obstacles[i].pos, obstacles[i].width, obstacles[i].height,\n",
        "             facecolor = 'red',\n",
        "             fill=True))\n",
        "\n",
        "\n",
        "#circle_patch = Circle(x_init, radio_robot, facecolor='blue')\n",
        "#ax.add_patch(circle_patch)\n",
        "\n",
        "# Plotear los vértices\n",
        "#for v in V:\n",
        "#    x, y = v\n",
        "#    circle_patch = Circle((x, y), radio_robot, facecolor='green')\n",
        "#    ax.add_patch(circle_patch)\n",
        "    #plt.plot(x, y, 'ro', markersize=10)  # 'ro' representa círculos rojos\n",
        "\n",
        "# Plotear las aristas\n",
        "i=0\n",
        "#for u, v in E:\n",
        "    #print(i, end=' \\r')\n",
        "    #x1, y1 = u\n",
        "    #x2, y2 = v\n",
        "    #plt.plot([x1, x2], [y1, y2], 'b-')  # 'b-' representa líneas azules\n",
        "    #i+=1\n",
        "\n",
        "for v in Path:\n",
        "    x, y = v\n",
        "    circle_patch = Circle((x, y), radio_robot, facecolor='yellow')\n",
        "    ax.add_patch(circle_patch)\n",
        "    #plt.plot(x, y, 'ro', markersize=10)  # 'ro' representa círculos rojos\n",
        "\n",
        "\n",
        "\n",
        "ax.set_aspect('equal')\n",
        "\n",
        "plt.show()"
      ],
      "metadata": {
        "colab": {
          "base_uri": "https://localhost:8080/",
          "height": 435
        },
        "id": "j7XICCz5UJ3N",
        "outputId": "8f2e3637-e96b-40e5-9f21-1995a936c814"
      },
      "execution_count": null,
      "outputs": [
        {
          "output_type": "display_data",
          "data": {
            "text/plain": [
              "<Figure size 640x480 with 1 Axes>"
            ],
            "image/png": "[encoded data removed]"
          },
          "metadata": {}
        }
      ]
    },
    {
      "cell_type": "code",
      "source": [
        "print(Dropout_STATS)"
      ],
      "metadata": {
        "colab": {
          "base_uri": "https://localhost:8080/"
        },
        "id": "AqHSaBd-Gjx0",
        "outputId": "091983fc-2659-49c4-eb3b-6c832b5b828a"
      },
      "execution_count": null,
      "outputs": [
        {
          "output_type": "stream",
          "name": "stdout",
          "text": [
            "[[0, 5.912946867181977, 2.137895345687866], [0, 3.893848529501101, 6.1581339836120605], [1, 2.4082837829879975, 0.3878748416900635], [0, 2.620152575590599, 0.40448975563049316], [0, 3.5556206635347896, 0.6343700885772705], [0, 5.933165715029722, 0.7807157039642334], [0, 3.427897415783508, 3.8903684616088867], [1, 0.42099357481691696, 0.15477204322814941], [0, 3.0734999160045455, 0.47718024253845215], [0, 7.415278867849429, 0.9265484809875488], [0, 4.276245164151947, 0.8326478004455566], [0, 7.716248337611297, 1.7744176387786865], [1, 6.898660227225354, 0.9255468845367432], [0, 5.182165085618948, 3.9030468463897705], [0, 6.128281047118927, 3.8753910064697266], [1, 0, 3.0279159545898438e-05], [1, 2.8455697041623917, 0.4777987003326416], [1, 1.374787895082912, 0.24368000030517578], [0, 7.389417543383164, 1.2497971057891846], [0, 7.496307620480944, 4.436452865600586], [1, 4.34957676786239, 0.6413047313690186], [0, 9.51248293509229, 3.823880195617676], [0, 3.368139717014897, 0.6277027130126953], [0, 8.997591933051307, 1.2924044132232666], [0, 6.030324187209078, 0.7629497051239014], [0, 5.4513450985446745, 1.0208382606506348], [1, 2.876386484759788, 0.5524747371673584], [1, 0, 7.677078247070312e-05], [0, 8.945923365619477, 1.5842540264129639], [0, 8.147286173197456, 1.8681590557098389], [0, 7.772871518729053, 3.915771484375], [0, 2.6496033597705377, 0.37791895866394043], [0, 6.737543603562746, 1.4059689044952393], [0, 5.67224951588878, 0.7510874271392822], [0, 8.697504610512391, 1.116732120513916], [0, 10.422395820338172, 2.070193290710449], [0, 3.493038496743312, 4.031035900115967], [0, 4.121853287176262, 0.6202821731567383], [1, 3.8514546742199705, 0.4711024761199951], [0, 4.230180627575683, 0.6538760662078857], [0, 0.6480160487743608, 3.875155448913574], [0, 6.115595492711518, 0.8751034736633301], [0, 5.19841113082114, 1.108238697052002], [0, 8.759161146404313, 1.8678052425384521], [0, 4.7528564974328456, 1.1997921466827393], [1, 0, 2.1696090698242188e-05], [1, 0.9181195329600059, 0.1555180549621582], [0, 2.1682238414057498, 3.9039597511291504], [0, 10.804305278094219, 1.4769055843353271], [1, 4.340181110788998, 0.613682746887207], [0, 5.510272394469147, 0.871269702911377], [0, 4.919240384538867, 0.6836159229278564], [0, 8.631935246407231, 2.759214162826538], [0, 5.104393365776092, 4.464335203170776], [0, 4.391079576093303, 0.6695802211761475], [1, 0.6266706554452528, 0.09881830215454102], [0, 9.425231338578202, 1.8373172283172607], [1, 5.340263783726149, 0.8755652904510498], [0, 5.954912455347559, 5.47101354598999], [1, 6.229815055360645, 1.153162956237793], [0, 5.0405433897524325, 0.7669434547424316], [0, 5.9033689877988795, 0.830049991607666], [0, 2.2154603771619366, 4.968323469161987], [0, 5.206384662243991, 0.8774187564849854], [1, 0.4043106372963764, 0.07461094856262207], [0, 9.88909641099662, 1.8479738235473633], [0, 2.623975395357114, 0.9710597991943359], [0, 9.145161536512713, 1.4110991954803467], [1, 5.276098270864511, 1.1476662158966064], [0, 3.3785037040434545, 0.4758014678955078], [0, 7.34653010763119, 0.954740047454834], [0, 2.633455705022688, 0.411959171295166], [1, 4.008877307234873, 0.47095561027526855], [0, 5.587265582818972, 0.951279878616333], [0, 1.4394019376395824, 0.4385645389556885], [0, 3.62538541486599, 4.0453174114227295], [0, 4.439868124806085, 0.8388562202453613], [0, 6.654054745074975, 4.250464916229248], [1, 4.762324819362953, 0.64288330078125], [1, 0, 6.461143493652344e-05], [0, 8.632780732383111, 1.190518856048584], [0, 5.242326915159177, 3.911797285079956], [1, 4.587953190212386, 0.5395333766937256], [0, 4.936998170408169, 0.6627392768859863], [1, 0.7863060318110195, 0.24144816398620605], [0, 1.4080313705022776, 4.722124338150024], [0, 4.401283685004776, 0.7630102634429932], [0, 4.102880874230438, 3.947862386703491], [0, 8.326070680949458, 4.6023523807525635], [0, 8.468994100255387, 2.6975083351135254], [0, 6.912330366646891, 1.1641755104064941], [0, 6.4855456041403805, 1.028754472732544], [1, 4.623319070715944, 0.6291790008544922], [0, 6.278433708413426, 0.8061847686767578], [0, 6.938027613438992, 3.9059817790985107], [0, 6.572951187862624, 1.1956119537353516], [0, 4.789993364973728, 1.0934841632843018], [0, 5.344083229114725, 1.0480432510375977], [0, 3.149075547891915, 0.6371238231658936], [0, 6.1538339273992175, 1.0344679355621338]]\n"
          ]
        }
      ]
    },
    {
      "cell_type": "code",
      "source": [
        "# Guardar en un archivo de texto\n",
        "with open(\"Dropout_STATS.txt\", \"w\") as archivo:\n",
        "    for linea in Dropout_STATS:\n",
        "        texto = \" \".join(str(valor) for valor in linea)  # Convertir la línea en una cadena de texto separada por espacios\n",
        "        archivo.write(texto + \"\\n\")  # Escribir la línea en el archivo, agregando un salto de línea\n",
        "\n",
        "print(\"Datos guardados en el archivo.\")"
      ],
      "metadata": {
        "colab": {
          "base_uri": "https://localhost:8080/"
        },
        "id": "tmqLUsyyIxgl",
        "outputId": "436af7f9-3c75-4d1c-d334-b460b0527812"
      },
      "execution_count": null,
      "outputs": [
        {
          "output_type": "stream",
          "name": "stdout",
          "text": [
            "Datos guardados en el archivo.\n"
          ]
        }
      ]
    },
    {
      "cell_type": "markdown",
      "source": [
        "Sin drop out"
      ],
      "metadata": {
        "id": "29hONtQOno1y"
      }
    },
    {
      "cell_type": "code",
      "source": [
        "model_path = '/content/gdrive/MyDrive/SST_DATA/DDR_SECOND_ORDER/models/trained_model_obs1_v1_700_samples_4000_epochs.h5'\n",
        "mlp = keras.models.load_model(model_path)"
      ],
      "metadata": {
        "id": "baliIUB0nvUy"
      },
      "execution_count": null,
      "outputs": []
    },
    {
      "cell_type": "code",
      "source": [
        "import time\n",
        "\n",
        "Sindropout_STATS=[]\n",
        "sindropout_succes=100\n",
        "i=0\n",
        "for punto in Puntos_Prueba:\n",
        "   # Outputs\n",
        "  start= []\n",
        "  start.append(float(punto[0]))\n",
        "  start.append(float(punto[1]))\n",
        "  start.append(float(punto[2]))\n",
        "  start.append(float(punto[3]))\n",
        "  #print(punto)\n",
        "  last= [100,100,100,100]\n",
        "  flag=1\n",
        "\n",
        "  Path=[]\n",
        "  dist=0\n",
        "\n",
        "  inicio = time.time()  # Obtiene el tiempo actual en segundos desde la época (Unix timestamp)\n",
        "\n",
        "\n",
        "  iter=0\n",
        "  while(np.linalg.norm(np.array([start[0],start[1]])-np.array([start[2],start[3]]))>=0.75 and iter<50):\n",
        "    new_controls = mlp.predict([start],verbose=0)[0]\n",
        "    #print(new_controls)\n",
        "    last=copy.deepcopy(start)\n",
        "    start[0]=float(new_controls[0])\n",
        "    start[1]=float(new_controls[1])\n",
        "    #print(start)\n",
        "    Path.append([start[0],start[1]])\n",
        "    dist+=distancia_euclidiana(np.array([start[0],start[1]]),np.array([last[0],last[1]]))\n",
        "    iter+=1\n",
        "\n",
        "  fin = time.time()  # Obtiene el tiempo actual nuevamente\n",
        "\n",
        "\n",
        "  if(iter>=50):\n",
        "    sindropout_succes=sindropout_succes-1\n",
        "    flag=0\n",
        "  else:\n",
        "    for k in range(len(Path)-1):\n",
        "      if (collisionFree(Path[k][0], Path[k][1], Path[k+1][0], Path[k+1][1] ,radio_robot)==False):\n",
        "        sindropout_succes=sindropout_succes-1\n",
        "        flag=0\n",
        "        break\n",
        "\n",
        "  tiempo_transcurrido = fin - inicio\n",
        "\n",
        "  Sindropout_STATS.append([flag,dist,tiempo_transcurrido])\n",
        "  print(i)\n",
        "  i+=1\n",
        "\n",
        "print(\"Trayectorias con exito: \",sindropout_succes)"
      ],
      "metadata": {
        "colab": {
          "base_uri": "https://localhost:8080/"
        },
        "id": "Y0UJdbkKnx6q",
        "outputId": "8cecfd4f-31fc-4c37-da70-0dcb996ccec9"
      },
      "execution_count": null,
      "outputs": [
        {
          "output_type": "stream",
          "name": "stdout",
          "text": [
            "0\n",
            "1\n",
            "2\n",
            "3\n",
            "4\n",
            "5\n",
            "6\n",
            "7\n",
            "8\n",
            "9\n",
            "10\n",
            "11\n",
            "12\n",
            "13\n",
            "14\n",
            "15\n",
            "16\n",
            "17\n",
            "18\n",
            "19\n",
            "20\n",
            "21\n",
            "22\n",
            "23\n",
            "24\n",
            "25\n",
            "26\n",
            "27\n",
            "28\n",
            "29\n",
            "30\n",
            "31\n",
            "32\n",
            "33\n",
            "34\n",
            "35\n",
            "36\n",
            "37\n",
            "38\n",
            "39\n",
            "40\n",
            "41\n",
            "42\n",
            "43\n",
            "44\n",
            "45\n",
            "46\n",
            "47\n",
            "48\n",
            "49\n",
            "50\n",
            "51\n",
            "52\n",
            "53\n",
            "54\n",
            "55\n",
            "56\n",
            "57\n",
            "58\n",
            "59\n",
            "60\n",
            "61\n",
            "62\n",
            "63\n",
            "64\n",
            "65\n",
            "66\n",
            "67\n",
            "68\n",
            "69\n",
            "70\n",
            "71\n",
            "72\n",
            "73\n",
            "74\n",
            "75\n",
            "76\n",
            "77\n",
            "78\n",
            "79\n",
            "80\n",
            "81\n",
            "82\n",
            "83\n",
            "84\n",
            "85\n",
            "86\n",
            "87\n",
            "88\n",
            "89\n",
            "90\n",
            "91\n",
            "92\n",
            "93\n",
            "94\n",
            "95\n",
            "96\n",
            "97\n",
            "98\n",
            "99\n",
            "Trayectorias con exito:  23\n"
          ]
        }
      ]
    },
    {
      "cell_type": "code",
      "source": [
        "print(Sindropout_STATS)"
      ],
      "metadata": {
        "colab": {
          "base_uri": "https://localhost:8080/"
        },
        "id": "ueAe8H6PL7RS",
        "outputId": "43b4028b-d86d-422a-f8bf-83fddbb8dfa2"
      },
      "execution_count": null,
      "outputs": [
        {
          "output_type": "stream",
          "name": "stdout",
          "text": [
            "[[0, 5.900350018798274, 2.9865994453430176], [0, 6.369625646081504, 6.4800004959106445], [1, 2.5270635810261877, 0.6230409145355225], [0, 2.670558487154618, 0.6520977020263672], [0, 3.439820377062122, 2.67494797706604], [0, 6.008527220958343, 1.4026267528533936], [0, 2.5706519130699563, 4.113060474395752], [1, 0.6567234301336284, 0.16631293296813965], [0, 5.2503454338202245, 0.719310998916626], [0, 6.983511021747533, 0.8644037246704102], [1, 4.133608511666046, 0.6410136222839355], [0, 7.383739038345989, 1.026691198348999], [0, 6.653500663348159, 0.890958309173584], [0, 4.323186336939761, 4.6621809005737305], [0, 5.706924860048641, 3.8826000690460205], [1, 0, 1.239776611328125e-05], [1, 3.064559737782765, 0.4499225616455078], [1, 1.4696742528146574, 0.2649085521697998], [0, 7.26470872822103, 3.776595115661621], [0, 7.078032554710991, 4.601628065109253], [1, 4.398514944702241, 0.6239769458770752], [0, 5.674739727391887, 3.9089694023132324], [0, 3.3345708712198427, 0.4762232303619385], [0, 4.006457916539491, 4.057598114013672], [0, 5.999985702178917, 1.0609064102172852], [1, 5.176596986460903, 0.8747756481170654], [1, 2.868375847038565, 0.4805724620819092], [1, 0, 5.8650970458984375e-05], [0, 8.505801804160148, 1.991084098815918], [0, 5.459369251939305, 3.8338711261749268], [0, 4.361725432314034, 4.095790386199951], [0, 2.9692214480478643, 0.45133090019226074], [0, 6.643631208412083, 1.6832304000854492], [0, 5.589970456985545, 0.8134572505950928], [0, 8.44468973101501, 1.0194683074951172], [0, 4.242400406847789, 3.8661434650421143], [1, 3.615043357160542, 0.6166043281555176], [0, 3.9394977112372462, 4.30116081237793], [0, 3.668417446669108, 1.0549955368041992], [1, 3.9714074643479, 0.7008640766143799], [0, 1.9106377849459528, 3.8122990131378174], [0, 6.184331757029184, 1.573747158050537], [0, 4.546728335501346, 0.66851806640625], [0, 4.077125690685945, 3.908848285675049], [0, 6.158180718015819, 1.8590812683105469], [1, 0, 3.504753112792969e-05], [1, 1.2161717859395986, 0.24982571601867676], [0, 1.7835655676474624, 4.835480213165283], [0, 7.641976081663572, 1.04017972946167], [0, 4.109458048514314, 5.023818254470825], [0, 4.672239429954844, 0.8883616924285889], [0, 4.01198963676569, 1.1044623851776123], [0, 4.591315425391923, 3.911039113998413], [0, 4.318883383000338, 0.9925334453582764], [1, 4.288783251891187, 0.6412220001220703], [1, 0.8031492664807398, 0.15749478340148926], [0, 8.378343311676689, 2.2227814197540283], [1, 4.982043726367685, 0.7324314117431641], [1, 5.904480529975326, 0.8827228546142578], [0, 6.158389169073289, 1.6418147087097168], [0, 4.385455480503471, 0.9021799564361572], [0, 5.869939970435136, 0.8225767612457275], [0, 1.2705955030926115, 3.80958890914917], [0, 4.352425804609871, 0.6902203559875488], [1, 0.6171354491355153, 0.08723902702331543], [0, 9.7218291432144, 1.930131435394287], [0, 2.4804675585990035, 1.781933069229126], [0, 3.2408060308266275, 4.718160629272461], [0, 5.250213108805657, 0.6952626705169678], [0, 3.3052622378658683, 0.7002630233764648], [0, 7.32598730192081, 1.2430429458618164], [0, 2.1590459305089613, 0.34045886993408203], [0, 4.258874181687014, 1.7622871398925781], [0, 4.823233302488332, 0.6888971328735352], [0, 2.1256748329232074, 0.6012320518493652], [0, 2.8719887777847357, 4.552707672119141], [0, 4.604077712851134, 0.8011035919189453], [0, 6.338346761312351, 1.23618483543396], [0, 4.528494319976568, 0.670220136642456], [1, 0, 7.534027099609375e-05], [0, 7.7758207782131885, 1.2470784187316895], [0, 5.754625899313133, 3.881495714187622], [0, 4.184745394197454, 0.5236852169036865], [0, 4.691619813407469, 1.0369853973388672], [1, 0.7388671337108946, 0.07502412796020508], [1, 5.794770591460509, 1.0261750221252441], [0, 4.20186967274092, 1.4048645496368408], [0, 5.8948004524438655, 2.0066468715667725], [0, 3.4436511196667943, 3.8766214847564697], [0, 7.606903976347163, 1.1604530811309814], [0, 5.866952811450262, 3.90474271774292], [0, 6.307474630696945, 1.2649056911468506], [1, 4.6580646619409, 0.9192752838134766], [0, 6.418234852204702, 1.1237468719482422], [0, 6.467392381547055, 1.575195550918579], [0, 5.999631136632242, 1.068403720855713], [0, 4.969400738360304, 0.7833163738250732], [0, 1.684188489535679, 0.23021149635314941], [0, 2.8553516463984496, 0.8796713352203369], [0, 5.460045507280782, 0.9248368740081787]]\n"
          ]
        }
      ]
    },
    {
      "cell_type": "code",
      "source": [
        "# Guardar en un archivo de texto\n",
        "with open(\"Sindropout_STATS.txt\", \"w\") as archivo:\n",
        "    for linea in Sindropout_STATS:\n",
        "        texto = \" \".join(str(valor) for valor in linea)  # Convertir la línea en una cadena de texto separada por espacios\n",
        "        archivo.write(texto + \"\\n\")  # Escribir la línea en el archivo, agregando un salto de línea\n",
        "\n",
        "print(\"Datos guardados en el archivo.\")"
      ],
      "metadata": {
        "colab": {
          "base_uri": "https://localhost:8080/"
        },
        "id": "nWZZREvjMAlC",
        "outputId": "f7048540-9425-4f2f-f3e2-a556e8f3a4f7"
      },
      "execution_count": null,
      "outputs": [
        {
          "output_type": "stream",
          "name": "stdout",
          "text": [
            "Datos guardados en el archivo.\n"
          ]
        }
      ]
    },
    {
      "cell_type": "markdown",
      "source": [
        "Sklearn"
      ],
      "metadata": {
        "id": "pqb_a1eDibWV"
      }
    },
    {
      "cell_type": "code",
      "source": [
        "import copy\n",
        "import time\n",
        "\n",
        "Sklearn_STATS=[]\n",
        "\n",
        "sklearn_succes=100\n",
        "i=0\n",
        "for punto in Puntos_Prueba:\n",
        "  # Outputs\n",
        "  start= punto\n",
        "  last= [100,100,100,100]\n",
        "  flag=1\n",
        "\n",
        "  Path=[]\n",
        "  dist=0\n",
        "\n",
        "  inicio = time.time()  # Obtiene el tiempo actual en segundos desde la época (Unix timestamp)\n",
        "\n",
        "\n",
        "  iter=0\n",
        "  while(np.linalg.norm(np.array([start[0],start[1]])-np.array([start[2],start[3]]))>=0.75 and iter<50):\n",
        "    new_controls = clf.predict([start])[0]\n",
        "    #print(new_controls)\n",
        "    last=copy.deepcopy(start)\n",
        "    start[0]=float(new_controls[0])\n",
        "    start[1]=float(new_controls[1])\n",
        "    #print(start)\n",
        "    Path.append([start[0],start[1]])\n",
        "    dist+=distancia_euclidiana(np.array([start[0],start[1]]),np.array([last[0],last[1]]))\n",
        "    iter+=1\n",
        "\n",
        "  fin = time.time()  # Obtiene el tiempo actual nuevamente\n",
        "\n",
        "\n",
        "  if(iter>=50):\n",
        "    sklearn_succes=sklearn_succes-1\n",
        "    flag=0\n",
        "  else:\n",
        "    for k in range(len(Path)-1):\n",
        "      if (collisionFree(Path[k][0], Path[k][1], Path[k+1][0], Path[k+1][1] ,radio_robot)==False):\n",
        "        sklearn_succes=sklearn_succes-1\n",
        "        flag=0\n",
        "        break\n",
        "\n",
        "  tiempo_transcurrido = fin - inicio\n",
        "\n",
        "  Sklearn_STATS.append([flag,dist,tiempo_transcurrido])\n",
        "  print(i)\n",
        "  i+=1\n",
        "\n",
        "print(\"Trayectorias con exito: \",sklearn_succes)"
      ],
      "metadata": {
        "colab": {
          "base_uri": "https://localhost:8080/"
        },
        "id": "basmvM31fFfK",
        "outputId": "443371c0-d0f1-44c0-9257-31e2c0e3a134"
      },
      "execution_count": null,
      "outputs": [
        {
          "output_type": "stream",
          "name": "stdout",
          "text": [
            "0\n",
            "1\n",
            "2\n",
            "3\n",
            "4\n",
            "5\n",
            "6\n",
            "7\n",
            "8\n",
            "9\n",
            "10\n",
            "11\n",
            "12\n",
            "13\n",
            "14\n",
            "15\n",
            "16\n",
            "17\n",
            "18\n",
            "19\n",
            "20\n",
            "21\n",
            "22\n",
            "23\n",
            "24\n",
            "25\n",
            "26\n",
            "27\n",
            "28\n",
            "29\n",
            "30\n",
            "31\n",
            "32\n",
            "33\n",
            "34\n",
            "35\n",
            "36\n",
            "37\n",
            "38\n",
            "39\n",
            "40\n",
            "41\n",
            "42\n",
            "43\n",
            "44\n",
            "45\n",
            "46\n",
            "47\n",
            "48\n",
            "49\n",
            "50\n",
            "51\n",
            "52\n",
            "53\n",
            "54\n",
            "55\n",
            "56\n",
            "57\n",
            "58\n",
            "59\n",
            "60\n",
            "61\n",
            "62\n",
            "63\n",
            "64\n",
            "65\n",
            "66\n",
            "67\n",
            "68\n",
            "69\n",
            "70\n",
            "71\n",
            "72\n",
            "73\n",
            "74\n",
            "75\n",
            "76\n",
            "77\n",
            "78\n",
            "79\n",
            "80\n",
            "81\n",
            "82\n",
            "83\n",
            "84\n",
            "85\n",
            "86\n",
            "87\n",
            "88\n",
            "89\n",
            "90\n",
            "91\n",
            "92\n",
            "93\n",
            "94\n",
            "95\n",
            "96\n",
            "97\n",
            "98\n",
            "99\n",
            "Trayectorias con exito:  32\n"
          ]
        }
      ]
    },
    {
      "cell_type": "code",
      "source": [
        "print(Sklearn_STATS)"
      ],
      "metadata": {
        "colab": {
          "base_uri": "https://localhost:8080/"
        },
        "id": "Pnk1bBiXR76g",
        "outputId": "38d06ee9-ad0d-4315-ab09-97f708faf6d3"
      },
      "execution_count": null,
      "outputs": [
        {
          "output_type": "stream",
          "name": "stdout",
          "text": [
            "[[0, 5.842107599911766, 0.0054547786712646484], [0, 20.956534885881705, 0.008522510528564453], [1, 2.469210874231144, 0.0009317398071289062], [0, 3.0146099205543218, 0.0011475086212158203], [0, 2.6464235660106503, 0.0008404254913330078], [1, 6.180658258977112, 0.00186920166015625], [0, 3.0000396587673572, 0.008765697479248047], [1, 0.5275374345524195, 0.00030350685119628906], [0, 3.463079557803253, 0.002273082733154297], [0, 7.471962263591619, 0.004287242889404297], [0, 4.5464443788788165, 0.0026264190673828125], [0, 7.952490091834818, 0.003882884979248047], [0, 7.006652336159998, 0.003477811813354492], [0, 5.026247579969263, 0.0042111873626708984], [0, 6.06746605484725, 0.0038404464721679688], [1, 0, 9.870529174804688e-05], [1, 2.9973289386274953, 0.0012650489807128906], [1, 1.9852668694309552, 0.001672983169555664], [0, 7.798123661424674, 0.005113840103149414], [0, 7.9069005529420995, 0.006462812423706055], [1, 4.754631927479005, 0.0028998851776123047], [0, 21.36538872700048, 0.010471105575561523], [1, 4.146879898793237, 0.0011284351348876953], [0, 9.195127335195421, 0.002745389938354492], [1, 6.548424153797136, 0.0035610198974609375], [1, 5.321646393868526, 0.003230571746826172], [1, 3.23497254431124, 0.0023164749145507812], [1, 0, 8.463859558105469e-05], [0, 8.946588263213236, 0.0050868988037109375], [0, 8.24934079775004, 0.00439453125], [0, 6.2079855875203425, 0.014655828475952148], [0, 2.859168157176515, 0.0016405582427978516], [0, 6.681017853034794, 0.004605770111083984], [1, 6.09916271887159, 0.0037908554077148438], [0, 8.659605750984353, 0.006113767623901367], [0, 10.134483660755143, 0.005551576614379883], [1, 3.893584301473337, 0.0018351078033447266], [0, 4.42553429715282, 0.002839803695678711], [1, 4.045054642591092, 0.0014600753784179688], [0, 3.8251865536496084, 0.0024602413177490234], [0, 1.3235541395459496, 0.0006566047668457031], [0, 6.835557506288498, 0.00263214111328125], [0, 5.413395224134545, 0.0031557083129882812], [0, 9.707198749102501, 0.006175518035888672], [0, 6.821963850751079, 0.0036516189575195312], [1, 0, 4.792213439941406e-05], [1, 0.8807917235345031, 0.0009281635284423828], [1, 2.609383778566145, 0.002262115478515625], [0, 10.687530740479431, 0.0058214664459228516], [1, 4.363620346832644, 0.002525806427001953], [0, 5.224228424744138, 0.0037491321563720703], [0, 14.735138049203018, 0.016251802444458008], [0, 8.678777293717367, 0.00525212287902832], [0, 4.8771002175414955, 0.00360107421875], [1, 4.140063187130791, 0.0025186538696289062], [1, 1.0708265992060553, 0.0009410381317138672], [0, 9.114258560803476, 0.005179405212402344], [1, 5.255792968972296, 0.0031862258911132812], [1, 6.0618472080590635, 0.004091501235961914], [0, 6.706144613597905, 0.00416874885559082], [0, 4.741398797087857, 0.002089262008666992], [1, 6.2213564227313185, 0.0032796859741210938], [0, 2.185367581105435, 0.0033245086669921875], [0, 5.411623356167222, 0.0037529468536376953], [1, 0.7023602374169231, 0.0005354881286621094], [0, 10.528694917042705, 0.0045623779296875], [0, 2.719812290824451, 0.0033271312713623047], [0, 9.419233110579174, 0.005167484283447266], [0, 5.585722966783138, 0.0026068687438964844], [0, 3.6177924850793692, 0.0037353038787841797], [1, 7.7769416821569575, 0.003565073013305664], [0, 2.964676393345419, 0.0020012855529785156], [1, 4.1500413649393435, 0.0035746097564697266], [0, 5.796769676523769, 0.0034868717193603516], [0, 1.8330126265478253, 0.0010340213775634766], [0, 4.4957724678825075, 0.003747224807739258], [1, 4.461188864353989, 0.0027778148651123047], [0, 6.620730122615479, 0.0056476593017578125], [1, 5.196501806410121, 0.0026721954345703125], [1, 0, 0.000118255615234375], [0, 8.834889679166581, 0.005048036575317383], [0, 6.955895354415496, 0.0028154850006103516], [0, 4.8056172650904525, 0.0014019012451171875], [0, 5.04058492557032, 0.003957986831665039], [1, 0.7107231062486514, 0.0004565715789794922], [0, 5.866509055085043, 0.003482341766357422], [0, 4.663950030253949, 0.0029802322387695312], [0, 9.09639262993739, 0.011595487594604492], [0, 8.276194632464625, 0.00622105598449707], [0, 8.882286531671069, 0.004834651947021484], [0, 6.763897283786375, 0.00482177734375], [0, 6.080985309011919, 0.003025531768798828], [1, 4.430209717987394, 0.0029456615447998047], [0, 14.26114806811529, 0.01830577850341797], [0, 8.103017458050186, 0.01206064224243164], [0, 6.141314434399357, 0.004663944244384766], [0, 4.969663307960857, 0.003525972366333008], [0, 1.4791617993913864, 0.0013599395751953125], [0, 3.5436808516754756, 0.00238037109375], [0, 5.8616047440800365, 0.0020825862884521484]]\n"
          ]
        }
      ]
    },
    {
      "cell_type": "code",
      "source": [
        "# Guardar en un archivo de texto\n",
        "with open(\"Sklearn_STATS.txt\", \"w\") as archivo:\n",
        "    for linea in Sklearn_STATS:\n",
        "        texto = \" \".join(str(valor) for valor in linea)  # Convertir la línea en una cadena de texto separada por espacios\n",
        "        archivo.write(texto + \"\\n\")  # Escribir la línea en el archivo, agregando un salto de línea\n",
        "\n",
        "print(\"Datos guardados en el archivo.\")"
      ],
      "metadata": {
        "colab": {
          "base_uri": "https://localhost:8080/"
        },
        "id": "nk1cZ30OR-a_",
        "outputId": "38fb5d01-383f-4292-b186-ff2b046467d6"
      },
      "execution_count": null,
      "outputs": [
        {
          "output_type": "stream",
          "name": "stdout",
          "text": [
            "Datos guardados en el archivo.\n"
          ]
        }
      ]
    }
  ]
}